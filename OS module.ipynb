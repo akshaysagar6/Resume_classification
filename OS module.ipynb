{
 "cells": [
  {
   "cell_type": "code",
   "execution_count": 1,
   "id": "1f5277da",
   "metadata": {},
   "outputs": [],
   "source": [
    "import os\n"
   ]
  },
  {
   "cell_type": "code",
   "execution_count": 2,
   "id": "9729c25f",
   "metadata": {},
   "outputs": [
    {
     "data": {
      "text/plain": [
       "['Internship_Ravali_Musquare Technologies (1).docx',\n",
       " 'Internship_Susovan Bag_Musquare Technologies.docx',\n",
       " 'React Developer_Deepakreddy.docx',\n",
       " 'React Developer_Haripriya.docx',\n",
       " 'React Developer_Kamalakar Reddy.docx',\n",
       " 'React Developer_Naveen sadhu.docx',\n",
       " 'React Developer_PavasGoswami.doc',\n",
       " 'React Developer_Pragnya.docx',\n",
       " 'React Developer_Sarala Madasu-converted.docx',\n",
       " 'React Developer_Thirupathiamma.docx',\n",
       " 'React Developer_Vinay Reddy.doc',\n",
       " 'React Dev_Krishna Kanth.docx',\n",
       " 'React Dev_Krishna Kanth_Musquare Technologies.docx',\n",
       " 'React JS Developer_AnjaniPriyadarshini.doc',\n",
       " 'React JS Developer_KotaniDurgaprasad[3_1] (1)-converted.docx',\n",
       " 'React JS Developer_Venkatalakshmi (1)-converted.docx',\n",
       " 'Reactjs Developer_kambala sai surendra_Musquare Technologies.docx',\n",
       " 'Reactjs Developer_M Lokesh Babu_Musquare Technologies.docx',\n",
       " 'Reactjs Developer_M Lokesh.docx',\n",
       " 'Reactjs Developer_MD Khizaruddin Rauf _Musquare Technologies.docx',\n",
       " 'Reactjs Developer_Prabakaran_Musquare Technologies.pdf',\n",
       " 'Reactjs Developer_Pranish Sonone_Musquare Technologies.docx',\n",
       " 'Reactjs Developer_Ranga Gaganam_Musquare Technologies.docx',\n",
       " 'Reactjs Developer_Shaik Abdul Sharuk_Musquare Technologies.docx']"
      ]
     },
     "execution_count": 2,
     "metadata": {},
     "output_type": "execute_result"
    }
   ],
   "source": [
    "folders=os.listdir('React')\n",
    "folders"
   ]
  },
  {
   "cell_type": "code",
   "execution_count": 14,
   "id": "fa4108b4",
   "metadata": {},
   "outputs": [
    {
     "name": "stdout",
     "output_type": "stream",
     "text": [
      "Internship_Ravali_Musquare Technologies (1).docx\n",
      "Internship_Susovan Bag_Musquare Technologies.docx\n",
      "React Developer_Deepakreddy.docx\n",
      "React Developer_Haripriya.docx\n",
      "React Developer_Kamalakar Reddy.docx\n",
      "React Developer_Naveen sadhu.docx\n",
      "React Developer_PavasGoswami.doc\n",
      "React Developer_Pragnya.docx\n",
      "React Developer_Sarala Madasu-converted.docx\n",
      "React Developer_Thirupathiamma.docx\n",
      "React Developer_Vinay Reddy.doc\n",
      "React Dev_Krishna Kanth.docx\n",
      "React Dev_Krishna Kanth_Musquare Technologies.docx\n",
      "React JS Developer_AnjaniPriyadarshini.doc\n",
      "React JS Developer_KotaniDurgaprasad[3_1] (1)-converted.docx\n",
      "React JS Developer_Venkatalakshmi (1)-converted.docx\n",
      "Reactjs Developer_kambala sai surendra_Musquare Technologies.docx\n",
      "Reactjs Developer_M Lokesh Babu_Musquare Technologies.docx\n",
      "Reactjs Developer_M Lokesh.docx\n",
      "Reactjs Developer_MD Khizaruddin Rauf _Musquare Technologies.docx\n",
      "Reactjs Developer_Prabakaran_Musquare Technologies.pdf\n",
      "Reactjs Developer_Pranish Sonone_Musquare Technologies.docx\n",
      "Reactjs Developer_Ranga Gaganam_Musquare Technologies.docx\n",
      "Reactjs Developer_Shaik Abdul Sharuk_Musquare Technologies.docx\n"
     ]
    }
   ],
   "source": [
    "for folder in folders:\n",
    "    if folder.endswith('.pdf') or ('.doc'):\n",
    "        print (folder)"
   ]
  },
  {
   "cell_type": "code",
   "execution_count": 13,
   "id": "72459d9e",
   "metadata": {},
   "outputs": [
    {
     "ename": "NotADirectoryError",
     "evalue": "[WinError 267] The directory name is invalid: 'React/Internship_Ravali_Musquare Technologies (1).docx'",
     "output_type": "error",
     "traceback": [
      "\u001b[1;31m---------------------------------------------------------------------------\u001b[0m",
      "\u001b[1;31mNotADirectoryError\u001b[0m                        Traceback (most recent call last)",
      "Cell \u001b[1;32mIn[13], line 2\u001b[0m\n\u001b[0;32m      1\u001b[0m \u001b[38;5;28;01mfor\u001b[39;00m folder \u001b[38;5;129;01min\u001b[39;00m folders:\n\u001b[1;32m----> 2\u001b[0m     \u001b[38;5;28mprint\u001b[39m(os\u001b[38;5;241m.\u001b[39mlistdir(\u001b[38;5;124mf\u001b[39m\u001b[38;5;124m\"\u001b[39m\u001b[38;5;124mReact/\u001b[39m\u001b[38;5;132;01m{\u001b[39;00mfolder\u001b[38;5;132;01m}\u001b[39;00m\u001b[38;5;124m\"\u001b[39m))\n",
      "\u001b[1;31mNotADirectoryError\u001b[0m: [WinError 267] The directory name is invalid: 'React/Internship_Ravali_Musquare Technologies (1).docx'"
     ]
    }
   ],
   "source": [
    "# Path\n",
    "#path = \"/home\"\n",
    " \n",
    "# Join various path components\n",
    "#print(os.path.join(path, \"User/Desktop\", \"file.txt\"))\n",
    "\n",
    "#output-------->/home/User/Desktop/file.txt"
   ]
  },
  {
   "cell_type": "code",
   "execution_count": null,
   "id": "ea3e1d92",
   "metadata": {},
   "outputs": [],
   "source": []
  }
 ],
 "metadata": {
  "kernelspec": {
   "display_name": "Python 3 (ipykernel)",
   "language": "python",
   "name": "python3"
  },
  "language_info": {
   "codemirror_mode": {
    "name": "ipython",
    "version": 3
   },
   "file_extension": ".py",
   "mimetype": "text/x-python",
   "name": "python",
   "nbconvert_exporter": "python",
   "pygments_lexer": "ipython3",
   "version": "3.11.4"
  }
 },
 "nbformat": 4,
 "nbformat_minor": 5
}
