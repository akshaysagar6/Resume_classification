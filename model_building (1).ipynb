{
 "cells": [
  {
   "cell_type": "code",
   "execution_count": 1,
   "id": "8b37d19d",
   "metadata": {},
   "outputs": [],
   "source": [
    "import pandas as pd\n",
    "import numpy as np\n",
    "import matplotlib.pyplot as plt\n",
    "import seaborn as sns\n",
    "from sklearn.metrics import confusion_matrix,classification_report,accuracy_score,precision_score,recall_score,f1_score\n",
    "from sklearn.model_selection import train_test_split,GridSearchCV\n",
    "from sklearn.linear_model import LogisticRegression\n",
    "from sklearn.tree import DecisionTreeClassifier\n",
    "from sklearn.ensemble import RandomForestClassifier,StackingClassifier,VotingClassifier\n",
    "from sklearn.svm import SVC\n",
    "from sklearn.naive_bayes import MultinomialNB\n",
    "from xgboost import XGBClassifier\n",
    "from sklearn.cluster import KMeans\n",
    "import warnings\n",
    "warnings.filterwarnings('ignore')"
   ]
  },
  {
   "cell_type": "code",
   "execution_count": 2,
   "id": "5c7b779e",
   "metadata": {},
   "outputs": [],
   "source": [
    "cuni=pd.read_csv('finaldata.csv')\n",
    "cbi=pd.read_csv('bidf.csv')\n",
    "cub=pd.read_csv('ub_df.csv')\n",
    "tfuni=pd.read_csv('tfuni.csv')\n",
    "tfbi=pd.read_csv('tfbii.csv')\n",
    "tfub=pd.read_csv('tf_ui_bi.csv')"
   ]
  },
  {
   "cell_type": "code",
   "execution_count": 3,
   "id": "20f89563",
   "metadata": {},
   "outputs": [],
   "source": [
    "X_cuni=cuni.drop(['category','category_label'],axis=1)\n",
    "X_cbi=cbi.drop(['category','category_label'],axis=1)\n",
    "X_cub=cub.drop(['category','category_label'],axis=1)\n",
    "X_tfuni=tfuni.drop(['category','category_label'],axis=1)\n",
    "X_tfbi=tfbi.drop(['category','category_label'],axis=1)\n",
    "X_tfub=tfub.drop(['category','category_label'],axis=1)"
   ]
  },
  {
   "cell_type": "code",
   "execution_count": 4,
   "id": "6aed6ac1",
   "metadata": {},
   "outputs": [],
   "source": [
    "target=cuni[['category_label']]"
   ]
  },
  {
   "cell_type": "code",
   "execution_count": 5,
   "id": "98f1c1eb",
   "metadata": {},
   "outputs": [],
   "source": [
    "cluster_df=pd.DataFrame(cuni['category_label'].copy())"
   ]
  },
  {
   "cell_type": "code",
   "execution_count": 6,
   "id": "9d5186bc",
   "metadata": {},
   "outputs": [
    {
     "data": {
      "text/html": [
       "<div>\n",
       "<style scoped>\n",
       "    .dataframe tbody tr th:only-of-type {\n",
       "        vertical-align: middle;\n",
       "    }\n",
       "\n",
       "    .dataframe tbody tr th {\n",
       "        vertical-align: top;\n",
       "    }\n",
       "\n",
       "    .dataframe thead th {\n",
       "        text-align: right;\n",
       "    }\n",
       "</style>\n",
       "<table border=\"1\" class=\"dataframe\">\n",
       "  <thead>\n",
       "    <tr style=\"text-align: right;\">\n",
       "      <th></th>\n",
       "      <th>category_label</th>\n",
       "    </tr>\n",
       "  </thead>\n",
       "  <tbody>\n",
       "    <tr>\n",
       "      <th>0</th>\n",
       "      <td>2</td>\n",
       "    </tr>\n",
       "    <tr>\n",
       "      <th>1</th>\n",
       "      <td>2</td>\n",
       "    </tr>\n",
       "    <tr>\n",
       "      <th>2</th>\n",
       "      <td>2</td>\n",
       "    </tr>\n",
       "    <tr>\n",
       "      <th>3</th>\n",
       "      <td>2</td>\n",
       "    </tr>\n",
       "    <tr>\n",
       "      <th>4</th>\n",
       "      <td>2</td>\n",
       "    </tr>\n",
       "    <tr>\n",
       "      <th>...</th>\n",
       "      <td>...</td>\n",
       "    </tr>\n",
       "    <tr>\n",
       "      <th>72</th>\n",
       "      <td>4</td>\n",
       "    </tr>\n",
       "    <tr>\n",
       "      <th>73</th>\n",
       "      <td>4</td>\n",
       "    </tr>\n",
       "    <tr>\n",
       "      <th>74</th>\n",
       "      <td>4</td>\n",
       "    </tr>\n",
       "    <tr>\n",
       "      <th>75</th>\n",
       "      <td>0</td>\n",
       "    </tr>\n",
       "    <tr>\n",
       "      <th>76</th>\n",
       "      <td>0</td>\n",
       "    </tr>\n",
       "  </tbody>\n",
       "</table>\n",
       "<p>77 rows × 1 columns</p>\n",
       "</div>"
      ],
      "text/plain": [
       "    category_label\n",
       "0                2\n",
       "1                2\n",
       "2                2\n",
       "3                2\n",
       "4                2\n",
       "..             ...\n",
       "72               4\n",
       "73               4\n",
       "74               4\n",
       "75               0\n",
       "76               0\n",
       "\n",
       "[77 rows x 1 columns]"
      ]
     },
     "execution_count": 6,
     "metadata": {},
     "output_type": "execute_result"
    }
   ],
   "source": [
    "cluster_df"
   ]
  },
  {
   "cell_type": "code",
   "execution_count": 7,
   "id": "d3aea2eb",
   "metadata": {},
   "outputs": [],
   "source": [
    "def clustering(feature,df_name):\n",
    "    algor=KMeans(n_clusters=5).fit(feature)\n",
    "    k1=algor.labels_.tolist()\n",
    "    cluster_df[df_name]=k1"
   ]
  },
  {
   "cell_type": "code",
   "execution_count": 8,
   "id": "990d7eb7",
   "metadata": {},
   "outputs": [],
   "source": [
    "clustering(X_cbi,'cbi')\n",
    "clustering(X_cub,'cub')\n",
    "clustering(X_cuni,'cuni')\n",
    "clustering(X_tfbi,'tfbi')\n",
    "clustering(X_tfub,'tfub')\n",
    "clustering(X_tfuni,'tfuni')"
   ]
  },
  {
   "cell_type": "code",
   "execution_count": 9,
   "id": "8e17ae1c",
   "metadata": {},
   "outputs": [
    {
     "data": {
      "text/html": [
       "<div>\n",
       "<style scoped>\n",
       "    .dataframe tbody tr th:only-of-type {\n",
       "        vertical-align: middle;\n",
       "    }\n",
       "\n",
       "    .dataframe tbody tr th {\n",
       "        vertical-align: top;\n",
       "    }\n",
       "\n",
       "    .dataframe thead th {\n",
       "        text-align: right;\n",
       "    }\n",
       "</style>\n",
       "<table border=\"1\" class=\"dataframe\">\n",
       "  <thead>\n",
       "    <tr style=\"text-align: right;\">\n",
       "      <th></th>\n",
       "      <th>category_label</th>\n",
       "      <th>cbi</th>\n",
       "      <th>cub</th>\n",
       "      <th>cuni</th>\n",
       "      <th>tfbi</th>\n",
       "      <th>tfub</th>\n",
       "      <th>tfuni</th>\n",
       "    </tr>\n",
       "  </thead>\n",
       "  <tbody>\n",
       "    <tr>\n",
       "      <th>0</th>\n",
       "      <td>2</td>\n",
       "      <td>3</td>\n",
       "      <td>0</td>\n",
       "      <td>1</td>\n",
       "      <td>4</td>\n",
       "      <td>3</td>\n",
       "      <td>3</td>\n",
       "    </tr>\n",
       "    <tr>\n",
       "      <th>1</th>\n",
       "      <td>2</td>\n",
       "      <td>3</td>\n",
       "      <td>0</td>\n",
       "      <td>1</td>\n",
       "      <td>4</td>\n",
       "      <td>3</td>\n",
       "      <td>3</td>\n",
       "    </tr>\n",
       "    <tr>\n",
       "      <th>2</th>\n",
       "      <td>2</td>\n",
       "      <td>3</td>\n",
       "      <td>0</td>\n",
       "      <td>1</td>\n",
       "      <td>4</td>\n",
       "      <td>3</td>\n",
       "      <td>3</td>\n",
       "    </tr>\n",
       "    <tr>\n",
       "      <th>3</th>\n",
       "      <td>2</td>\n",
       "      <td>3</td>\n",
       "      <td>0</td>\n",
       "      <td>1</td>\n",
       "      <td>1</td>\n",
       "      <td>4</td>\n",
       "      <td>3</td>\n",
       "    </tr>\n",
       "    <tr>\n",
       "      <th>4</th>\n",
       "      <td>2</td>\n",
       "      <td>3</td>\n",
       "      <td>0</td>\n",
       "      <td>1</td>\n",
       "      <td>4</td>\n",
       "      <td>3</td>\n",
       "      <td>2</td>\n",
       "    </tr>\n",
       "    <tr>\n",
       "      <th>...</th>\n",
       "      <td>...</td>\n",
       "      <td>...</td>\n",
       "      <td>...</td>\n",
       "      <td>...</td>\n",
       "      <td>...</td>\n",
       "      <td>...</td>\n",
       "      <td>...</td>\n",
       "    </tr>\n",
       "    <tr>\n",
       "      <th>72</th>\n",
       "      <td>4</td>\n",
       "      <td>3</td>\n",
       "      <td>0</td>\n",
       "      <td>4</td>\n",
       "      <td>1</td>\n",
       "      <td>0</td>\n",
       "      <td>1</td>\n",
       "    </tr>\n",
       "    <tr>\n",
       "      <th>73</th>\n",
       "      <td>4</td>\n",
       "      <td>3</td>\n",
       "      <td>0</td>\n",
       "      <td>1</td>\n",
       "      <td>1</td>\n",
       "      <td>0</td>\n",
       "      <td>1</td>\n",
       "    </tr>\n",
       "    <tr>\n",
       "      <th>74</th>\n",
       "      <td>4</td>\n",
       "      <td>3</td>\n",
       "      <td>0</td>\n",
       "      <td>4</td>\n",
       "      <td>1</td>\n",
       "      <td>0</td>\n",
       "      <td>1</td>\n",
       "    </tr>\n",
       "    <tr>\n",
       "      <th>75</th>\n",
       "      <td>0</td>\n",
       "      <td>3</td>\n",
       "      <td>0</td>\n",
       "      <td>1</td>\n",
       "      <td>3</td>\n",
       "      <td>3</td>\n",
       "      <td>3</td>\n",
       "    </tr>\n",
       "    <tr>\n",
       "      <th>76</th>\n",
       "      <td>0</td>\n",
       "      <td>3</td>\n",
       "      <td>0</td>\n",
       "      <td>1</td>\n",
       "      <td>1</td>\n",
       "      <td>3</td>\n",
       "      <td>3</td>\n",
       "    </tr>\n",
       "  </tbody>\n",
       "</table>\n",
       "<p>77 rows × 7 columns</p>\n",
       "</div>"
      ],
      "text/plain": [
       "    category_label  cbi  cub  cuni  tfbi  tfub  tfuni\n",
       "0                2    3    0     1     4     3      3\n",
       "1                2    3    0     1     4     3      3\n",
       "2                2    3    0     1     4     3      3\n",
       "3                2    3    0     1     1     4      3\n",
       "4                2    3    0     1     4     3      2\n",
       "..             ...  ...  ...   ...   ...   ...    ...\n",
       "72               4    3    0     4     1     0      1\n",
       "73               4    3    0     1     1     0      1\n",
       "74               4    3    0     4     1     0      1\n",
       "75               0    3    0     1     3     3      3\n",
       "76               0    3    0     1     1     3      3\n",
       "\n",
       "[77 rows x 7 columns]"
      ]
     },
     "execution_count": 9,
     "metadata": {},
     "output_type": "execute_result"
    }
   ],
   "source": [
    "cluster_df"
   ]
  },
  {
   "cell_type": "code",
   "execution_count": 10,
   "id": "d64b644c",
   "metadata": {},
   "outputs": [
    {
     "name": "stdout",
     "output_type": "stream",
     "text": [
      "4    21\n",
      "2    20\n",
      "1    20\n",
      "3    14\n",
      "0     2\n",
      "Name: category_label, dtype: int64\n",
      "3    71\n",
      "4     3\n",
      "0     1\n",
      "1     1\n",
      "2     1\n",
      "Name: cbi, dtype: int64\n",
      "0    62\n",
      "2    11\n",
      "1     2\n",
      "4     1\n",
      "3     1\n",
      "Name: cub, dtype: int64\n",
      "1    49\n",
      "4    18\n",
      "2     5\n",
      "3     4\n",
      "0     1\n",
      "Name: cuni, dtype: int64\n",
      "1    24\n",
      "4    19\n",
      "0    14\n",
      "2    13\n",
      "3     7\n",
      "Name: tfbi, dtype: int64\n",
      "3    23\n",
      "0    21\n",
      "2    14\n",
      "1    13\n",
      "4     6\n",
      "Name: tfub, dtype: int64\n",
      "3    21\n",
      "1    21\n",
      "2    15\n",
      "0    11\n",
      "4     9\n",
      "Name: tfuni, dtype: int64\n"
     ]
    }
   ],
   "source": [
    "for i in cluster_df.columns:\n",
    "    print(cluster_df[i].value_counts())"
   ]
  },
  {
   "cell_type": "code",
   "execution_count": 11,
   "id": "95871dfc",
   "metadata": {},
   "outputs": [
    {
     "data": {
      "text/plain": [
       "3    21\n",
       "1    21\n",
       "2    15\n",
       "0    11\n",
       "4     9\n",
       "Name: tfuni, dtype: int64"
      ]
     },
     "execution_count": 11,
     "metadata": {},
     "output_type": "execute_result"
    }
   ],
   "source": [
    "cluster_df['tfuni'].value_counts()"
   ]
  },
  {
   "cell_type": "code",
   "execution_count": 12,
   "id": "065408df",
   "metadata": {},
   "outputs": [
    {
     "data": {
      "text/plain": [
       "4    21\n",
       "2    20\n",
       "1    20\n",
       "3    14\n",
       "0     2\n",
       "Name: category_label, dtype: int64"
      ]
     },
     "execution_count": 12,
     "metadata": {},
     "output_type": "execute_result"
    }
   ],
   "source": [
    "cluster_df['category_label'].value_counts()"
   ]
  },
  {
   "cell_type": "code",
   "execution_count": 13,
   "id": "b89a7151",
   "metadata": {},
   "outputs": [],
   "source": [
    "index_columns = ['train_accuracy', 'train_precision', 'train_recall', 'train_f1score',\n",
    "                'test_accuracy', 'test_precision', 'test_recall', 'test_f1score']\n",
    "result=pd.DataFrame(index=index_columns)"
   ]
  },
  {
   "cell_type": "code",
   "execution_count": 14,
   "id": "a07305ed",
   "metadata": {},
   "outputs": [
    {
     "data": {
      "text/html": [
       "<div>\n",
       "<style scoped>\n",
       "    .dataframe tbody tr th:only-of-type {\n",
       "        vertical-align: middle;\n",
       "    }\n",
       "\n",
       "    .dataframe tbody tr th {\n",
       "        vertical-align: top;\n",
       "    }\n",
       "\n",
       "    .dataframe thead th {\n",
       "        text-align: right;\n",
       "    }\n",
       "</style>\n",
       "<table border=\"1\" class=\"dataframe\">\n",
       "  <thead>\n",
       "    <tr style=\"text-align: right;\">\n",
       "      <th></th>\n",
       "    </tr>\n",
       "  </thead>\n",
       "  <tbody>\n",
       "    <tr>\n",
       "      <th>train_accuracy</th>\n",
       "    </tr>\n",
       "    <tr>\n",
       "      <th>train_precision</th>\n",
       "    </tr>\n",
       "    <tr>\n",
       "      <th>train_recall</th>\n",
       "    </tr>\n",
       "    <tr>\n",
       "      <th>train_f1score</th>\n",
       "    </tr>\n",
       "    <tr>\n",
       "      <th>test_accuracy</th>\n",
       "    </tr>\n",
       "    <tr>\n",
       "      <th>test_precision</th>\n",
       "    </tr>\n",
       "    <tr>\n",
       "      <th>test_recall</th>\n",
       "    </tr>\n",
       "    <tr>\n",
       "      <th>test_f1score</th>\n",
       "    </tr>\n",
       "  </tbody>\n",
       "</table>\n",
       "</div>"
      ],
      "text/plain": [
       "Empty DataFrame\n",
       "Columns: []\n",
       "Index: [train_accuracy, train_precision, train_recall, train_f1score, test_accuracy, test_precision, test_recall, test_f1score]"
      ]
     },
     "execution_count": 14,
     "metadata": {},
     "output_type": "execute_result"
    }
   ],
   "source": [
    "result"
   ]
  },
  {
   "cell_type": "markdown",
   "id": "3aca149e",
   "metadata": {},
   "source": [
    "### Model Building"
   ]
  },
  {
   "cell_type": "code",
   "execution_count": 15,
   "id": "a8db99dd",
   "metadata": {},
   "outputs": [],
   "source": [
    "def model_building(model,features,model_name):\n",
    "    '''model,features,model name'''\n",
    "    \n",
    "    x_train,x_test,y_train,y_test=train_test_split(features,target,train_size=0.8,random_state=100)\n",
    "    \n",
    "    model1=model.fit(x_train,y_train)\n",
    "    train_predict=model1.predict(x_train)\n",
    "    train_conf=confusion_matrix(y_train,train_predict)\n",
    "    train_classfi=classification_report(y_train,train_predict)\n",
    "    train_accuracy=accuracy_score(y_train,train_predict)\n",
    "    train_precision=precision_score(y_train,train_predict,average='macro')\n",
    "    train_recall=recall_score(y_train,train_predict,average='macro')\n",
    "    train_f1score=f1_score(y_train,train_predict,average='macro')\n",
    "    \n",
    "    test_predict=model1.predict(x_test)\n",
    "    test_conf=confusion_matrix(y_test,test_predict)\n",
    "    test_classfi=classification_report(y_test,test_predict)\n",
    "    test_accuracy=accuracy_score(y_test,test_predict)\n",
    "    test_precision=precision_score(y_test,test_predict,average='macro')\n",
    "    test_recall=recall_score(y_test,test_predict,average='macro')\n",
    "    test_f1score=f1_score(y_test,test_predict,average='macro')\n",
    "    \n",
    "    result[model_name]=train_accuracy,train_precision,train_recall,train_f1score,test_accuracy,test_precision,test_recall,test_f1score\n",
    "    \n",
    "    plt.figure(figsize=(5,3))\n",
    "    sns.heatmap(test_conf,annot=True)\n",
    "    plt.show()\n",
    "    print('-'*30,'>','Train Classification Report','<','-'*30)\n",
    "    print(train_classfi)\n",
    "    print()\n",
    "    print('-'*30,'>','Test Classification Report','<','-'*30)\n",
    "    print(test_classfi)\n",
    "    "
   ]
  },
  {
   "cell_type": "code",
   "execution_count": 16,
   "id": "7fb783cc",
   "metadata": {},
   "outputs": [],
   "source": [
    "def tuning(model,params,features):\n",
    "    '''model,params,features'''\n",
    "    grid=GridSearchCV(model,params,n_jobs=-1)\n",
    "    x_train,x_test,y_train,y_test=train_test_split(features,target,train_size=0.8,random_state=100)\n",
    "    grid.fit(x_train,y_train)\n",
    "    bestp=grid.best_params_\n",
    "    return bestp"
   ]
  },
  {
   "cell_type": "markdown",
   "id": "9f5a8382",
   "metadata": {},
   "source": [
    "### Logistic Regression"
   ]
  },
  {
   "cell_type": "code",
   "execution_count": 17,
   "id": "bc2848f2",
   "metadata": {},
   "outputs": [
    {
     "data": {
      "image/png": "[encoded data removed]",
      "text/plain": [
       "<Figure size 500x300 with 2 Axes>"
      ]
     },
     "metadata": {},
     "output_type": "display_data"
    },
    {
     "name": "stdout",
     "output_type": "stream",
     "text": [
      "------------------------------ > Train Classification Report < ------------------------------\n",
      "              precision    recall  f1-score   support\n",
      "\n",
      "           0       1.00      1.00      1.00         2\n",
      "           1       1.00      1.00      1.00        17\n",
      "           2       1.00      1.00      1.00        17\n",
      "           3       1.00      1.00      1.00         9\n",
      "           4       1.00      1.00      1.00        16\n",
      "\n",
      "    accuracy                           1.00        61\n",
      "   macro avg       1.00      1.00      1.00        61\n",
      "weighted avg       1.00      1.00      1.00        61\n",
      "\n",
      "\n",
      "------------------------------ > Test Classification Report < ------------------------------\n",
      "              precision    recall  f1-score   support\n",
      "\n",
      "           1       1.00      1.00      1.00         3\n",
      "           2       0.75      1.00      0.86         3\n",
      "           3       1.00      0.80      0.89         5\n",
      "           4       1.00      1.00      1.00         5\n",
      "\n",
      "    accuracy                           0.94        16\n",
      "   macro avg       0.94      0.95      0.94        16\n",
      "weighted avg       0.95      0.94      0.94        16\n",
      "\n"
     ]
    }
   ],
   "source": [
    "model_building(LogisticRegression(),X_cuni,'Logistic_regression_cuni')"
   ]
  },
  {
   "cell_type": "code",
   "execution_count": 18,
   "id": "7d4bda50",
   "metadata": {},
   "outputs": [
    {
     "data": {
      "image/png": "[encoded data removed]",
      "text/plain": [
       "<Figure size 500x300 with 2 Axes>"
      ]
     },
     "metadata": {},
     "output_type": "display_data"
    },
    {
     "name": "stdout",
     "output_type": "stream",
     "text": [
      "------------------------------ > Train Classification Report < ------------------------------\n",
      "              precision    recall  f1-score   support\n",
      "\n",
      "           0       1.00      1.00      1.00         2\n",
      "           1       1.00      1.00      1.00        17\n",
      "           2       1.00      1.00      1.00        17\n",
      "           3       1.00      1.00      1.00         9\n",
      "           4       1.00      1.00      1.00        16\n",
      "\n",
      "    accuracy                           1.00        61\n",
      "   macro avg       1.00      1.00      1.00        61\n",
      "weighted avg       1.00      1.00      1.00        61\n",
      "\n",
      "\n",
      "------------------------------ > Test Classification Report < ------------------------------\n",
      "              precision    recall  f1-score   support\n",
      "\n",
      "           1       1.00      1.00      1.00         3\n",
      "           2       0.33      1.00      0.50         3\n",
      "           3       1.00      0.20      0.33         5\n",
      "           4       1.00      0.60      0.75         5\n",
      "\n",
      "    accuracy                           0.62        16\n",
      "   macro avg       0.83      0.70      0.65        16\n",
      "weighted avg       0.88      0.62      0.62        16\n",
      "\n"
     ]
    }
   ],
   "source": [
    "model_building(LogisticRegression(),X_cbi,'Logistic_regression_cbi')"
   ]
  },
  {
   "cell_type": "code",
   "execution_count": 19,
   "id": "13b2d9fe",
   "metadata": {},
   "outputs": [
    {
     "data": {
      "image/png": "[encoded data removed]",
      "text/plain": [
       "<Figure size 500x300 with 2 Axes>"
      ]
     },
     "metadata": {},
     "output_type": "display_data"
    },
    {
     "name": "stdout",
     "output_type": "stream",
     "text": [
      "------------------------------ > Train Classification Report < ------------------------------\n",
      "              precision    recall  f1-score   support\n",
      "\n",
      "           0       1.00      1.00      1.00         2\n",
      "           1       1.00      1.00      1.00        17\n",
      "           2       1.00      1.00      1.00        17\n",
      "           3       1.00      1.00      1.00         9\n",
      "           4       1.00      1.00      1.00        16\n",
      "\n",
      "    accuracy                           1.00        61\n",
      "   macro avg       1.00      1.00      1.00        61\n",
      "weighted avg       1.00      1.00      1.00        61\n",
      "\n",
      "\n",
      "------------------------------ > Test Classification Report < ------------------------------\n",
      "              precision    recall  f1-score   support\n",
      "\n",
      "           1       1.00      1.00      1.00         3\n",
      "           2       0.75      1.00      0.86         3\n",
      "           3       1.00      0.80      0.89         5\n",
      "           4       1.00      1.00      1.00         5\n",
      "\n",
      "    accuracy                           0.94        16\n",
      "   macro avg       0.94      0.95      0.94        16\n",
      "weighted avg       0.95      0.94      0.94        16\n",
      "\n"
     ]
    }
   ],
   "source": [
    "model_building(LogisticRegression(),X_cub,'Logistic_regression_cub')"
   ]
  },
  {
   "cell_type": "code",
   "execution_count": 20,
   "id": "676a1d11",
   "metadata": {},
   "outputs": [
    {
     "data": {
      "image/png": "[encoded data removed]",
      "text/plain": [
       "<Figure size 500x300 with 2 Axes>"
      ]
     },
     "metadata": {},
     "output_type": "display_data"
    },
    {
     "name": "stdout",
     "output_type": "stream",
     "text": [
      "------------------------------ > Train Classification Report < ------------------------------\n",
      "              precision    recall  f1-score   support\n",
      "\n",
      "           0       0.00      0.00      0.00         2\n",
      "           1       1.00      1.00      1.00        17\n",
      "           2       0.89      1.00      0.94        17\n",
      "           3       1.00      1.00      1.00         9\n",
      "           4       1.00      1.00      1.00        16\n",
      "\n",
      "    accuracy                           0.97        61\n",
      "   macro avg       0.78      0.80      0.79        61\n",
      "weighted avg       0.94      0.97      0.95        61\n",
      "\n",
      "\n",
      "------------------------------ > Test Classification Report < ------------------------------\n",
      "              precision    recall  f1-score   support\n",
      "\n",
      "           1       1.00      1.00      1.00         3\n",
      "           2       0.75      1.00      0.86         3\n",
      "           3       1.00      0.80      0.89         5\n",
      "           4       1.00      1.00      1.00         5\n",
      "\n",
      "    accuracy                           0.94        16\n",
      "   macro avg       0.94      0.95      0.94        16\n",
      "weighted avg       0.95      0.94      0.94        16\n",
      "\n"
     ]
    }
   ],
   "source": [
    "model_building(LogisticRegression(),X_tfuni,'Logistic_regression_tfuni')"
   ]
  },
  {
   "cell_type": "code",
   "execution_count": 21,
   "id": "d6c8591d",
   "metadata": {},
   "outputs": [
    {
     "data": {
      "image/png": "[encoded data removed]",
      "text/plain": [
       "<Figure size 500x300 with 2 Axes>"
      ]
     },
     "metadata": {},
     "output_type": "display_data"
    },
    {
     "name": "stdout",
     "output_type": "stream",
     "text": [
      "------------------------------ > Train Classification Report < ------------------------------\n",
      "              precision    recall  f1-score   support\n",
      "\n",
      "           0       0.00      0.00      0.00         2\n",
      "           1       1.00      1.00      1.00        17\n",
      "           2       0.89      1.00      0.94        17\n",
      "           3       1.00      1.00      1.00         9\n",
      "           4       1.00      1.00      1.00        16\n",
      "\n",
      "    accuracy                           0.97        61\n",
      "   macro avg       0.78      0.80      0.79        61\n",
      "weighted avg       0.94      0.97      0.95        61\n",
      "\n",
      "\n",
      "------------------------------ > Test Classification Report < ------------------------------\n",
      "              precision    recall  f1-score   support\n",
      "\n",
      "           1       1.00      1.00      1.00         3\n",
      "           2       0.43      1.00      0.60         3\n",
      "           3       1.00      0.20      0.33         5\n",
      "           4       1.00      1.00      1.00         5\n",
      "\n",
      "    accuracy                           0.75        16\n",
      "   macro avg       0.86      0.80      0.73        16\n",
      "weighted avg       0.89      0.75      0.72        16\n",
      "\n"
     ]
    }
   ],
   "source": [
    "model_building(LogisticRegression(),X_tfbi,'Logistic_regression_tfbi')"
   ]
  },
  {
   "cell_type": "code",
   "execution_count": 22,
   "id": "e13f69e0",
   "metadata": {},
   "outputs": [
    {
     "data": {
      "image/png": "[encoded data removed]",
      "text/plain": [
       "<Figure size 500x300 with 2 Axes>"
      ]
     },
     "metadata": {},
     "output_type": "display_data"
    },
    {
     "name": "stdout",
     "output_type": "stream",
     "text": [
      "------------------------------ > Train Classification Report < ------------------------------\n",
      "              precision    recall  f1-score   support\n",
      "\n",
      "           0       0.00      0.00      0.00         2\n",
      "           1       1.00      1.00      1.00        17\n",
      "           2       0.89      1.00      0.94        17\n",
      "           3       1.00      1.00      1.00         9\n",
      "           4       1.00      1.00      1.00        16\n",
      "\n",
      "    accuracy                           0.97        61\n",
      "   macro avg       0.78      0.80      0.79        61\n",
      "weighted avg       0.94      0.97      0.95        61\n",
      "\n",
      "\n",
      "------------------------------ > Test Classification Report < ------------------------------\n",
      "              precision    recall  f1-score   support\n",
      "\n",
      "           1       1.00      1.00      1.00         3\n",
      "           2       0.50      1.00      0.67         3\n",
      "           3       1.00      0.40      0.57         5\n",
      "           4       1.00      1.00      1.00         5\n",
      "\n",
      "    accuracy                           0.81        16\n",
      "   macro avg       0.88      0.85      0.81        16\n",
      "weighted avg       0.91      0.81      0.80        16\n",
      "\n"
     ]
    }
   ],
   "source": [
    "model_building(LogisticRegression(),X_tfub,'Logistic_regression_tfub')"
   ]
  },
  {
   "cell_type": "markdown",
   "id": "644e5bda",
   "metadata": {},
   "source": [
    "### Decision Tree"
   ]
  },
  {
   "cell_type": "code",
   "execution_count": 23,
   "id": "ea79db84",
   "metadata": {},
   "outputs": [],
   "source": [
    "#params={'max_depth':[2,4,8,10,None],'criterion':['entropy','gini'],'max_features':[0.25,0.35,0.5,0.75,1.0,None],'min_samples_split':[2,3,4,5,6]}\n",
    "#tuning(DecisionTreeClassifier(),params,X_cuni)"
   ]
  },
  {
   "cell_type": "code",
   "execution_count": 24,
   "id": "8c5cefa1",
   "metadata": {},
   "outputs": [
    {
     "data": {
      "image/png": "[encoded data removed]",
      "text/plain": [
       "<Figure size 500x300 with 2 Axes>"
      ]
     },
     "metadata": {},
     "output_type": "display_data"
    },
    {
     "name": "stdout",
     "output_type": "stream",
     "text": [
      "------------------------------ > Train Classification Report < ------------------------------\n",
      "              precision    recall  f1-score   support\n",
      "\n",
      "           0       1.00      1.00      1.00         2\n",
      "           1       1.00      1.00      1.00        17\n",
      "           2       1.00      1.00      1.00        17\n",
      "           3       1.00      1.00      1.00         9\n",
      "           4       1.00      1.00      1.00        16\n",
      "\n",
      "    accuracy                           1.00        61\n",
      "   macro avg       1.00      1.00      1.00        61\n",
      "weighted avg       1.00      1.00      1.00        61\n",
      "\n",
      "\n",
      "------------------------------ > Test Classification Report < ------------------------------\n",
      "              precision    recall  f1-score   support\n",
      "\n",
      "           1       1.00      1.00      1.00         3\n",
      "           2       0.60      1.00      0.75         3\n",
      "           3       1.00      0.80      0.89         5\n",
      "           4       1.00      0.80      0.89         5\n",
      "\n",
      "    accuracy                           0.88        16\n",
      "   macro avg       0.90      0.90      0.88        16\n",
      "weighted avg       0.93      0.88      0.88        16\n",
      "\n"
     ]
    }
   ],
   "source": [
    "model_building(DecisionTreeClassifier(criterion='gini',max_depth=None,max_features=0.35,min_samples_split=2),X_cuni,'Dtree_cuni')"
   ]
  },
  {
   "cell_type": "code",
   "execution_count": 25,
   "id": "d669816e",
   "metadata": {},
   "outputs": [],
   "source": [
    "#params={'max_depth':[2,4,8,10,None],'criterion':['entropy','gini'],'max_features':[0.25,0.35,0.5,0.75,1.0,None],'min_samples_split':[2,3,4,5,6]}\n",
    "#tuning(DecisionTreeClassifier(),params,X_cbi)"
   ]
  },
  {
   "cell_type": "code",
   "execution_count": 26,
   "id": "661b3eb3",
   "metadata": {},
   "outputs": [
    {
     "data": {
      "image/png": "[encoded data removed]",
      "text/plain": [
       "<Figure size 500x300 with 2 Axes>"
      ]
     },
     "metadata": {},
     "output_type": "display_data"
    },
    {
     "name": "stdout",
     "output_type": "stream",
     "text": [
      "------------------------------ > Train Classification Report < ------------------------------\n",
      "              precision    recall  f1-score   support\n",
      "\n",
      "           0       1.00      1.00      1.00         2\n",
      "           1       1.00      1.00      1.00        17\n",
      "           2       1.00      1.00      1.00        17\n",
      "           3       1.00      1.00      1.00         9\n",
      "           4       1.00      1.00      1.00        16\n",
      "\n",
      "    accuracy                           1.00        61\n",
      "   macro avg       1.00      1.00      1.00        61\n",
      "weighted avg       1.00      1.00      1.00        61\n",
      "\n",
      "\n",
      "------------------------------ > Test Classification Report < ------------------------------\n",
      "              precision    recall  f1-score   support\n",
      "\n",
      "           1       1.00      1.00      1.00         3\n",
      "           2       0.43      1.00      0.60         3\n",
      "           3       0.67      0.40      0.50         5\n",
      "           4       1.00      0.60      0.75         5\n",
      "\n",
      "    accuracy                           0.69        16\n",
      "   macro avg       0.77      0.75      0.71        16\n",
      "weighted avg       0.79      0.69      0.69        16\n",
      "\n"
     ]
    }
   ],
   "source": [
    "model_building(DecisionTreeClassifier(criterion=\"gini\",max_depth=None,max_features=1.0,min_samples_split=2),X_cbi,'Dtree_cbi')"
   ]
  },
  {
   "cell_type": "code",
   "execution_count": 27,
   "id": "c9379058",
   "metadata": {},
   "outputs": [],
   "source": [
    "#params={'max_depth':[2,4,8,10,None],'criterion':['entropy','gini'],'max_features':[0.25,0.35,0.5,0.75,1.0,None],'min_samples_split':[2,3,4,5,6]}\n",
    "#tuning(DecisionTreeClassifier(),params,X_cub)"
   ]
  },
  {
   "cell_type": "code",
   "execution_count": 28,
   "id": "80af5417",
   "metadata": {},
   "outputs": [
    {
     "data": {
      "image/png": "[encoded data removed]",
      "text/plain": [
       "<Figure size 500x300 with 2 Axes>"
      ]
     },
     "metadata": {},
     "output_type": "display_data"
    },
    {
     "name": "stdout",
     "output_type": "stream",
     "text": [
      "------------------------------ > Train Classification Report < ------------------------------\n",
      "              precision    recall  f1-score   support\n",
      "\n",
      "           0       1.00      1.00      1.00         2\n",
      "           1       1.00      1.00      1.00        17\n",
      "           2       1.00      1.00      1.00        17\n",
      "           3       1.00      1.00      1.00         9\n",
      "           4       1.00      1.00      1.00        16\n",
      "\n",
      "    accuracy                           1.00        61\n",
      "   macro avg       1.00      1.00      1.00        61\n",
      "weighted avg       1.00      1.00      1.00        61\n",
      "\n",
      "\n",
      "------------------------------ > Test Classification Report < ------------------------------\n",
      "              precision    recall  f1-score   support\n",
      "\n",
      "           1       1.00      1.00      1.00         3\n",
      "           2       0.75      1.00      0.86         3\n",
      "           3       1.00      0.80      0.89         5\n",
      "           4       1.00      1.00      1.00         5\n",
      "\n",
      "    accuracy                           0.94        16\n",
      "   macro avg       0.94      0.95      0.94        16\n",
      "weighted avg       0.95      0.94      0.94        16\n",
      "\n"
     ]
    }
   ],
   "source": [
    "model_building(DecisionTreeClassifier(criterion='gini',max_depth=8,max_features=1.0,min_samples_split=2),X_cub,'Dtree_cub')"
   ]
  },
  {
   "cell_type": "code",
   "execution_count": 29,
   "id": "c351b874",
   "metadata": {},
   "outputs": [],
   "source": [
    "#params={'max_depth':[2,4,8,10,None],'criterion':['entropy','gini'],'max_features':[0.25,0.35,0.5,0.75,1.0,None],'min_samples_split':[2,3,4,5,6]}\n",
    "#tuning(DecisionTreeClassifier(),params,X_tfuni)"
   ]
  },
  {
   "cell_type": "code",
   "execution_count": 30,
   "id": "e076da5c",
   "metadata": {},
   "outputs": [
    {
     "data": {
      "image/png": "[encoded data removed]",
      "text/plain": [
       "<Figure size 500x300 with 2 Axes>"
      ]
     },
     "metadata": {},
     "output_type": "display_data"
    },
    {
     "name": "stdout",
     "output_type": "stream",
     "text": [
      "------------------------------ > Train Classification Report < ------------------------------\n",
      "              precision    recall  f1-score   support\n",
      "\n",
      "           0       1.00      1.00      1.00         2\n",
      "           1       1.00      1.00      1.00        17\n",
      "           2       1.00      1.00      1.00        17\n",
      "           3       1.00      1.00      1.00         9\n",
      "           4       1.00      1.00      1.00        16\n",
      "\n",
      "    accuracy                           1.00        61\n",
      "   macro avg       1.00      1.00      1.00        61\n",
      "weighted avg       1.00      1.00      1.00        61\n",
      "\n",
      "\n",
      "------------------------------ > Test Classification Report < ------------------------------\n",
      "              precision    recall  f1-score   support\n",
      "\n",
      "           0       0.00      0.00      0.00         0\n",
      "           1       1.00      1.00      1.00         3\n",
      "           2       1.00      0.67      0.80         3\n",
      "           3       1.00      1.00      1.00         5\n",
      "           4       1.00      1.00      1.00         5\n",
      "\n",
      "    accuracy                           0.94        16\n",
      "   macro avg       0.80      0.73      0.76        16\n",
      "weighted avg       1.00      0.94      0.96        16\n",
      "\n"
     ]
    }
   ],
   "source": [
    "model_building(DecisionTreeClassifier(criterion='gini',max_depth=8,max_features=0.75,min_samples_split=2),X_tfuni,\"Dtree_tfuni\")"
   ]
  },
  {
   "cell_type": "code",
   "execution_count": 31,
   "id": "eac90234",
   "metadata": {},
   "outputs": [],
   "source": [
    "#params={'max_depth':[2,4,8,10,None],'criterion':['entropy','gini'],'max_features':[0.25,0.35,0.5,0.75,1.0,None],'min_samples_split':[2,3,4,5,6]}\n",
    "#tuning(DecisionTreeClassifier(),params,X_tfbi)"
   ]
  },
  {
   "cell_type": "code",
   "execution_count": 32,
   "id": "4208d351",
   "metadata": {},
   "outputs": [
    {
     "data": {
      "image/png": "[encoded data removed]",
      "text/plain": [
       "<Figure size 500x300 with 2 Axes>"
      ]
     },
     "metadata": {},
     "output_type": "display_data"
    },
    {
     "name": "stdout",
     "output_type": "stream",
     "text": [
      "------------------------------ > Train Classification Report < ------------------------------\n",
      "              precision    recall  f1-score   support\n",
      "\n",
      "           0       1.00      1.00      1.00         2\n",
      "           1       1.00      1.00      1.00        17\n",
      "           2       1.00      1.00      1.00        17\n",
      "           3       1.00      1.00      1.00         9\n",
      "           4       1.00      1.00      1.00        16\n",
      "\n",
      "    accuracy                           1.00        61\n",
      "   macro avg       1.00      1.00      1.00        61\n",
      "weighted avg       1.00      1.00      1.00        61\n",
      "\n",
      "\n",
      "------------------------------ > Test Classification Report < ------------------------------\n",
      "              precision    recall  f1-score   support\n",
      "\n",
      "           1       1.00      0.67      0.80         3\n",
      "           2       0.60      1.00      0.75         3\n",
      "           3       1.00      0.80      0.89         5\n",
      "           4       1.00      1.00      1.00         5\n",
      "\n",
      "    accuracy                           0.88        16\n",
      "   macro avg       0.90      0.87      0.86        16\n",
      "weighted avg       0.93      0.88      0.88        16\n",
      "\n"
     ]
    }
   ],
   "source": [
    "model_building(DecisionTreeClassifier(criterion='entropy',max_depth=8,max_features=0.75,min_samples_split=3),X_tfbi,'Dtree_tfbi')"
   ]
  },
  {
   "cell_type": "code",
   "execution_count": 33,
   "id": "48d9e487",
   "metadata": {},
   "outputs": [],
   "source": [
    "#params={'max_depth':[2,4,8,10,None],'criterion':['entropy','gini'],'max_features':[0.25,0.35,0.5,0.75,1.0,None],'min_samples_split':[2,3,4,5,6]}\n",
    "#tuning(DecisionTreeClassifier(),params,X_tfub)"
   ]
  },
  {
   "cell_type": "code",
   "execution_count": 34,
   "id": "7c38fba8",
   "metadata": {},
   "outputs": [
    {
     "data": {
      "image/png": "[encoded data removed]",
      "text/plain": [
       "<Figure size 500x300 with 2 Axes>"
      ]
     },
     "metadata": {},
     "output_type": "display_data"
    },
    {
     "name": "stdout",
     "output_type": "stream",
     "text": [
      "------------------------------ > Train Classification Report < ------------------------------\n",
      "              precision    recall  f1-score   support\n",
      "\n",
      "           0       1.00      1.00      1.00         2\n",
      "           1       1.00      1.00      1.00        17\n",
      "           2       1.00      1.00      1.00        17\n",
      "           3       1.00      1.00      1.00         9\n",
      "           4       1.00      1.00      1.00        16\n",
      "\n",
      "    accuracy                           1.00        61\n",
      "   macro avg       1.00      1.00      1.00        61\n",
      "weighted avg       1.00      1.00      1.00        61\n",
      "\n",
      "\n",
      "------------------------------ > Test Classification Report < ------------------------------\n",
      "              precision    recall  f1-score   support\n",
      "\n",
      "           0       0.00      0.00      0.00         0\n",
      "           1       1.00      1.00      1.00         3\n",
      "           2       1.00      0.67      0.80         3\n",
      "           3       1.00      1.00      1.00         5\n",
      "           4       1.00      1.00      1.00         5\n",
      "\n",
      "    accuracy                           0.94        16\n",
      "   macro avg       0.80      0.73      0.76        16\n",
      "weighted avg       1.00      0.94      0.96        16\n",
      "\n"
     ]
    }
   ],
   "source": [
    "model_building(DecisionTreeClassifier(criterion='gini',max_depth=10,max_features=None,min_samples_split=3),X_tfub,'Dtree_tfub')"
   ]
  },
  {
   "cell_type": "markdown",
   "id": "0e7dd7f2",
   "metadata": {},
   "source": [
    "### Support Vector Machine"
   ]
  },
  {
   "cell_type": "code",
   "execution_count": 35,
   "id": "7d223a89",
   "metadata": {},
   "outputs": [],
   "source": [
    "params={'kernel':['rbf','linear','poly','sigmoid'],'gamma':[0.1,0.4,0.6],'C':np.arange(1,5)}"
   ]
  },
  {
   "cell_type": "code",
   "execution_count": 36,
   "id": "fb8d7f6d",
   "metadata": {},
   "outputs": [],
   "source": [
    "#tuning(SVC(),params,X_cuni)"
   ]
  },
  {
   "cell_type": "code",
   "execution_count": 37,
   "id": "21f3238d",
   "metadata": {},
   "outputs": [
    {
     "data": {
      "image/png": "[encoded data removed]",
      "text/plain": [
       "<Figure size 500x300 with 2 Axes>"
      ]
     },
     "metadata": {},
     "output_type": "display_data"
    },
    {
     "name": "stdout",
     "output_type": "stream",
     "text": [
      "------------------------------ > Train Classification Report < ------------------------------\n",
      "              precision    recall  f1-score   support\n",
      "\n",
      "           0       1.00      1.00      1.00         2\n",
      "           1       1.00      1.00      1.00        17\n",
      "           2       1.00      1.00      1.00        17\n",
      "           3       1.00      1.00      1.00         9\n",
      "           4       1.00      1.00      1.00        16\n",
      "\n",
      "    accuracy                           1.00        61\n",
      "   macro avg       1.00      1.00      1.00        61\n",
      "weighted avg       1.00      1.00      1.00        61\n",
      "\n",
      "\n",
      "------------------------------ > Test Classification Report < ------------------------------\n",
      "              precision    recall  f1-score   support\n",
      "\n",
      "           1       1.00      1.00      1.00         3\n",
      "           2       0.75      1.00      0.86         3\n",
      "           3       1.00      0.80      0.89         5\n",
      "           4       1.00      1.00      1.00         5\n",
      "\n",
      "    accuracy                           0.94        16\n",
      "   macro avg       0.94      0.95      0.94        16\n",
      "weighted avg       0.95      0.94      0.94        16\n",
      "\n"
     ]
    }
   ],
   "source": [
    "model_building(SVC(C=1,gamma=0.1,kernel='linear'),X_cuni,'SVC_cuni')"
   ]
  },
  {
   "cell_type": "code",
   "execution_count": 38,
   "id": "3be5c0f3",
   "metadata": {},
   "outputs": [],
   "source": [
    "#tuning(SVC(),params,X_cbi)"
   ]
  },
  {
   "cell_type": "code",
   "execution_count": 39,
   "id": "b152f619",
   "metadata": {},
   "outputs": [
    {
     "data": {
      "image/png": "[encoded data removed]",
      "text/plain": [
       "<Figure size 500x300 with 2 Axes>"
      ]
     },
     "metadata": {},
     "output_type": "display_data"
    },
    {
     "name": "stdout",
     "output_type": "stream",
     "text": [
      "------------------------------ > Train Classification Report < ------------------------------\n",
      "              precision    recall  f1-score   support\n",
      "\n",
      "           0       0.00      0.00      0.00         2\n",
      "           1       0.89      1.00      0.94        17\n",
      "           2       0.85      1.00      0.92        17\n",
      "           3       0.80      0.89      0.84         9\n",
      "           4       1.00      0.75      0.86        16\n",
      "\n",
      "    accuracy                           0.89        61\n",
      "   macro avg       0.71      0.73      0.71        61\n",
      "weighted avg       0.87      0.89      0.87        61\n",
      "\n",
      "\n",
      "------------------------------ > Test Classification Report < ------------------------------\n",
      "              precision    recall  f1-score   support\n",
      "\n",
      "           1       1.00      1.00      1.00         3\n",
      "           2       0.60      1.00      0.75         3\n",
      "           3       1.00      0.40      0.57         5\n",
      "           4       0.83      1.00      0.91         5\n",
      "\n",
      "    accuracy                           0.81        16\n",
      "   macro avg       0.86      0.85      0.81        16\n",
      "weighted avg       0.87      0.81      0.79        16\n",
      "\n"
     ]
    }
   ],
   "source": [
    "model_building(SVC(C=1,gamma=0.4,kernel='sigmoid'),X_cbi,'SVC_cbi')"
   ]
  },
  {
   "cell_type": "code",
   "execution_count": 40,
   "id": "15157915",
   "metadata": {},
   "outputs": [],
   "source": [
    "#tuning(SVC(),params,X_cub)"
   ]
  },
  {
   "cell_type": "code",
   "execution_count": 41,
   "id": "1cae6874",
   "metadata": {},
   "outputs": [
    {
     "data": {
      "image/png": "[encoded data removed]",
      "text/plain": [
       "<Figure size 500x300 with 2 Axes>"
      ]
     },
     "metadata": {},
     "output_type": "display_data"
    },
    {
     "name": "stdout",
     "output_type": "stream",
     "text": [
      "------------------------------ > Train Classification Report < ------------------------------\n",
      "              precision    recall  f1-score   support\n",
      "\n",
      "           0       1.00      1.00      1.00         2\n",
      "           1       1.00      1.00      1.00        17\n",
      "           2       1.00      1.00      1.00        17\n",
      "           3       1.00      1.00      1.00         9\n",
      "           4       1.00      1.00      1.00        16\n",
      "\n",
      "    accuracy                           1.00        61\n",
      "   macro avg       1.00      1.00      1.00        61\n",
      "weighted avg       1.00      1.00      1.00        61\n",
      "\n",
      "\n",
      "------------------------------ > Test Classification Report < ------------------------------\n",
      "              precision    recall  f1-score   support\n",
      "\n",
      "           1       1.00      1.00      1.00         3\n",
      "           2       0.75      1.00      0.86         3\n",
      "           3       1.00      0.80      0.89         5\n",
      "           4       1.00      1.00      1.00         5\n",
      "\n",
      "    accuracy                           0.94        16\n",
      "   macro avg       0.94      0.95      0.94        16\n",
      "weighted avg       0.95      0.94      0.94        16\n",
      "\n"
     ]
    }
   ],
   "source": [
    "model_building(SVC(C=1,gamma=0.1,kernel='linear'),X_cub,'SVC_cub')"
   ]
  },
  {
   "cell_type": "code",
   "execution_count": 42,
   "id": "76fa69b8",
   "metadata": {},
   "outputs": [],
   "source": [
    "#tuning(SVC(),params,X_tfuni)"
   ]
  },
  {
   "cell_type": "code",
   "execution_count": 43,
   "id": "8ac5a46b",
   "metadata": {},
   "outputs": [
    {
     "data": {
      "image/png": "[encoded data removed]",
      "text/plain": [
       "<Figure size 500x300 with 2 Axes>"
      ]
     },
     "metadata": {},
     "output_type": "display_data"
    },
    {
     "name": "stdout",
     "output_type": "stream",
     "text": [
      "------------------------------ > Train Classification Report < ------------------------------\n",
      "              precision    recall  f1-score   support\n",
      "\n",
      "           0       1.00      1.00      1.00         2\n",
      "           1       1.00      1.00      1.00        17\n",
      "           2       1.00      1.00      1.00        17\n",
      "           3       1.00      1.00      1.00         9\n",
      "           4       1.00      1.00      1.00        16\n",
      "\n",
      "    accuracy                           1.00        61\n",
      "   macro avg       1.00      1.00      1.00        61\n",
      "weighted avg       1.00      1.00      1.00        61\n",
      "\n",
      "\n",
      "------------------------------ > Test Classification Report < ------------------------------\n",
      "              precision    recall  f1-score   support\n",
      "\n",
      "           1       1.00      1.00      1.00         3\n",
      "           2       0.75      1.00      0.86         3\n",
      "           3       1.00      0.80      0.89         5\n",
      "           4       1.00      1.00      1.00         5\n",
      "\n",
      "    accuracy                           0.94        16\n",
      "   macro avg       0.94      0.95      0.94        16\n",
      "weighted avg       0.95      0.94      0.94        16\n",
      "\n"
     ]
    }
   ],
   "source": [
    "model_building(SVC(C=1,gamma=0.1,kernel='linear'),X_tfuni,'SVC_tfuni')"
   ]
  },
  {
   "cell_type": "code",
   "execution_count": 44,
   "id": "b62c7a56",
   "metadata": {},
   "outputs": [],
   "source": [
    "#tuning(SVC(),params,X_tfbi)"
   ]
  },
  {
   "cell_type": "code",
   "execution_count": 45,
   "id": "b00e315a",
   "metadata": {},
   "outputs": [
    {
     "data": {
      "image/png": "[encoded data removed]",
      "text/plain": [
       "<Figure size 500x300 with 2 Axes>"
      ]
     },
     "metadata": {},
     "output_type": "display_data"
    },
    {
     "name": "stdout",
     "output_type": "stream",
     "text": [
      "------------------------------ > Train Classification Report < ------------------------------\n",
      "              precision    recall  f1-score   support\n",
      "\n",
      "           0       1.00      1.00      1.00         2\n",
      "           1       1.00      1.00      1.00        17\n",
      "           2       1.00      1.00      1.00        17\n",
      "           3       1.00      1.00      1.00         9\n",
      "           4       1.00      1.00      1.00        16\n",
      "\n",
      "    accuracy                           1.00        61\n",
      "   macro avg       1.00      1.00      1.00        61\n",
      "weighted avg       1.00      1.00      1.00        61\n",
      "\n",
      "\n",
      "------------------------------ > Test Classification Report < ------------------------------\n",
      "              precision    recall  f1-score   support\n",
      "\n",
      "           1       1.00      1.00      1.00         3\n",
      "           2       0.50      1.00      0.67         3\n",
      "           3       1.00      0.40      0.57         5\n",
      "           4       1.00      1.00      1.00         5\n",
      "\n",
      "    accuracy                           0.81        16\n",
      "   macro avg       0.88      0.85      0.81        16\n",
      "weighted avg       0.91      0.81      0.80        16\n",
      "\n"
     ]
    }
   ],
   "source": [
    "model_building(SVC(C=3,gamma=0.6,kernel='sigmoid'),X_tfbi,'SVC_tfbi')"
   ]
  },
  {
   "cell_type": "code",
   "execution_count": 46,
   "id": "d546fe53",
   "metadata": {},
   "outputs": [],
   "source": [
    "#tuning(SVC(),params,X_tfub)"
   ]
  },
  {
   "cell_type": "code",
   "execution_count": 47,
   "id": "f741a840",
   "metadata": {},
   "outputs": [
    {
     "data": {
      "image/png": "[encoded data removed]",
      "text/plain": [
       "<Figure size 500x300 with 2 Axes>"
      ]
     },
     "metadata": {},
     "output_type": "display_data"
    },
    {
     "name": "stdout",
     "output_type": "stream",
     "text": [
      "------------------------------ > Train Classification Report < ------------------------------\n",
      "              precision    recall  f1-score   support\n",
      "\n",
      "           0       1.00      1.00      1.00         2\n",
      "           1       1.00      1.00      1.00        17\n",
      "           2       1.00      1.00      1.00        17\n",
      "           3       1.00      1.00      1.00         9\n",
      "           4       1.00      1.00      1.00        16\n",
      "\n",
      "    accuracy                           1.00        61\n",
      "   macro avg       1.00      1.00      1.00        61\n",
      "weighted avg       1.00      1.00      1.00        61\n",
      "\n",
      "\n",
      "------------------------------ > Test Classification Report < ------------------------------\n",
      "              precision    recall  f1-score   support\n",
      "\n",
      "           1       1.00      1.00      1.00         3\n",
      "           2       0.75      1.00      0.86         3\n",
      "           3       1.00      0.80      0.89         5\n",
      "           4       1.00      1.00      1.00         5\n",
      "\n",
      "    accuracy                           0.94        16\n",
      "   macro avg       0.94      0.95      0.94        16\n",
      "weighted avg       0.95      0.94      0.94        16\n",
      "\n"
     ]
    }
   ],
   "source": [
    "model_building(SVC(C=2,gamma=0.1,kernel='linear'),X_tfub,'SVC_tfub')"
   ]
  },
  {
   "cell_type": "markdown",
   "id": "3f6bb412",
   "metadata": {},
   "source": [
    "### Random Forest"
   ]
  },
  {
   "cell_type": "code",
   "execution_count": 48,
   "id": "d1790262",
   "metadata": {},
   "outputs": [],
   "source": [
    "params={'n_estimators':[50,100,150],'max_depth':[2,4,8,10,None],'criterion':['entropy','gini'],'max_features':[0.25,0.35,0.5,0.75,1.0,None,'sqrt','log2'],'min_samples_split':[2,3,4,5,6]}"
   ]
  },
  {
   "cell_type": "code",
   "execution_count": 49,
   "id": "817e6b82",
   "metadata": {},
   "outputs": [],
   "source": [
    "#tuning(RandomForestClassifier(),params,X_cuni)"
   ]
  },
  {
   "cell_type": "code",
   "execution_count": 50,
   "id": "04cd8e45",
   "metadata": {},
   "outputs": [
    {
     "data": {
      "image/png": "[encoded data removed]",
      "text/plain": [
       "<Figure size 500x300 with 2 Axes>"
      ]
     },
     "metadata": {},
     "output_type": "display_data"
    },
    {
     "name": "stdout",
     "output_type": "stream",
     "text": [
      "------------------------------ > Train Classification Report < ------------------------------\n",
      "              precision    recall  f1-score   support\n",
      "\n",
      "           0       1.00      1.00      1.00         2\n",
      "           1       1.00      1.00      1.00        17\n",
      "           2       1.00      1.00      1.00        17\n",
      "           3       1.00      1.00      1.00         9\n",
      "           4       1.00      1.00      1.00        16\n",
      "\n",
      "    accuracy                           1.00        61\n",
      "   macro avg       1.00      1.00      1.00        61\n",
      "weighted avg       1.00      1.00      1.00        61\n",
      "\n",
      "\n",
      "------------------------------ > Test Classification Report < ------------------------------\n",
      "              precision    recall  f1-score   support\n",
      "\n",
      "           1       1.00      1.00      1.00         3\n",
      "           2       1.00      1.00      1.00         3\n",
      "           3       1.00      1.00      1.00         5\n",
      "           4       1.00      1.00      1.00         5\n",
      "\n",
      "    accuracy                           1.00        16\n",
      "   macro avg       1.00      1.00      1.00        16\n",
      "weighted avg       1.00      1.00      1.00        16\n",
      "\n"
     ]
    }
   ],
   "source": [
    "model_building(RandomForestClassifier(criterion='entropy',max_depth=10,max_features=0.25,min_samples_split=5,n_estimators=100),X_cuni,'Rforest_cuni')"
   ]
  },
  {
   "cell_type": "code",
   "execution_count": 51,
   "id": "587b8493",
   "metadata": {},
   "outputs": [],
   "source": [
    "#tuning(RandomForestClassifier(),params,X_cbi)"
   ]
  },
  {
   "cell_type": "code",
   "execution_count": 52,
   "id": "4d2d035b",
   "metadata": {},
   "outputs": [
    {
     "data": {
      "image/png": "[encoded data removed]",
      "text/plain": [
       "<Figure size 500x300 with 2 Axes>"
      ]
     },
     "metadata": {},
     "output_type": "display_data"
    },
    {
     "name": "stdout",
     "output_type": "stream",
     "text": [
      "------------------------------ > Train Classification Report < ------------------------------\n",
      "              precision    recall  f1-score   support\n",
      "\n",
      "           0       0.00      0.00      0.00         2\n",
      "           1       1.00      0.82      0.90        17\n",
      "           2       0.50      1.00      0.67        17\n",
      "           3       0.00      0.00      0.00         9\n",
      "           4       1.00      0.81      0.90        16\n",
      "\n",
      "    accuracy                           0.72        61\n",
      "   macro avg       0.50      0.53      0.49        61\n",
      "weighted avg       0.68      0.72      0.67        61\n",
      "\n",
      "\n",
      "------------------------------ > Test Classification Report < ------------------------------\n",
      "              precision    recall  f1-score   support\n",
      "\n",
      "           1       1.00      1.00      1.00         3\n",
      "           2       0.30      1.00      0.46         3\n",
      "           3       0.00      0.00      0.00         5\n",
      "           4       1.00      0.60      0.75         5\n",
      "\n",
      "    accuracy                           0.56        16\n",
      "   macro avg       0.57      0.65      0.55        16\n",
      "weighted avg       0.56      0.56      0.51        16\n",
      "\n"
     ]
    }
   ],
   "source": [
    "model_building(RandomForestClassifier(criterion='entropy',max_depth=2,max_features=0.25,min_samples_split=3,n_estimators=50),X_cbi,'Rforest_cbi')"
   ]
  },
  {
   "cell_type": "code",
   "execution_count": 53,
   "id": "9bba38d3",
   "metadata": {},
   "outputs": [],
   "source": [
    "#tuning(RandomForestClassifier(),params,X_cub)"
   ]
  },
  {
   "cell_type": "code",
   "execution_count": 54,
   "id": "32e069eb",
   "metadata": {},
   "outputs": [
    {
     "data": {
      "image/png": "[encoded data removed]",
      "text/plain": [
       "<Figure size 500x300 with 2 Axes>"
      ]
     },
     "metadata": {},
     "output_type": "display_data"
    },
    {
     "name": "stdout",
     "output_type": "stream",
     "text": [
      "------------------------------ > Train Classification Report < ------------------------------\n",
      "              precision    recall  f1-score   support\n",
      "\n",
      "           0       0.00      0.00      0.00         2\n",
      "           1       1.00      1.00      1.00        17\n",
      "           2       0.89      1.00      0.94        17\n",
      "           3       1.00      1.00      1.00         9\n",
      "           4       1.00      1.00      1.00        16\n",
      "\n",
      "    accuracy                           0.97        61\n",
      "   macro avg       0.78      0.80      0.79        61\n",
      "weighted avg       0.94      0.97      0.95        61\n",
      "\n",
      "\n",
      "------------------------------ > Test Classification Report < ------------------------------\n",
      "              precision    recall  f1-score   support\n",
      "\n",
      "           1       1.00      1.00      1.00         3\n",
      "           2       1.00      1.00      1.00         3\n",
      "           3       1.00      1.00      1.00         5\n",
      "           4       1.00      1.00      1.00         5\n",
      "\n",
      "    accuracy                           1.00        16\n",
      "   macro avg       1.00      1.00      1.00        16\n",
      "weighted avg       1.00      1.00      1.00        16\n",
      "\n"
     ]
    }
   ],
   "source": [
    "model_building(RandomForestClassifier(criterion='entropy',max_depth=4,max_features=0.25,min_samples_split=4,n_estimators=150),X_cub,'Rforest_cub')"
   ]
  },
  {
   "cell_type": "code",
   "execution_count": 55,
   "id": "80eedfc1",
   "metadata": {},
   "outputs": [],
   "source": [
    "#tuning(RandomForestClassifier(),params,X_tfuni)"
   ]
  },
  {
   "cell_type": "code",
   "execution_count": 56,
   "id": "c9dff8f7",
   "metadata": {},
   "outputs": [
    {
     "data": {
      "image/png": "[encoded data removed]",
      "text/plain": [
       "<Figure size 500x300 with 2 Axes>"
      ]
     },
     "metadata": {},
     "output_type": "display_data"
    },
    {
     "name": "stdout",
     "output_type": "stream",
     "text": [
      "------------------------------ > Train Classification Report < ------------------------------\n",
      "              precision    recall  f1-score   support\n",
      "\n",
      "           0       1.00      0.50      0.67         2\n",
      "           1       1.00      1.00      1.00        17\n",
      "           2       0.94      1.00      0.97        17\n",
      "           3       1.00      1.00      1.00         9\n",
      "           4       1.00      1.00      1.00        16\n",
      "\n",
      "    accuracy                           0.98        61\n",
      "   macro avg       0.99      0.90      0.93        61\n",
      "weighted avg       0.98      0.98      0.98        61\n",
      "\n",
      "\n",
      "------------------------------ > Test Classification Report < ------------------------------\n",
      "              precision    recall  f1-score   support\n",
      "\n",
      "           1       1.00      1.00      1.00         3\n",
      "           2       1.00      1.00      1.00         3\n",
      "           3       1.00      1.00      1.00         5\n",
      "           4       1.00      1.00      1.00         5\n",
      "\n",
      "    accuracy                           1.00        16\n",
      "   macro avg       1.00      1.00      1.00        16\n",
      "weighted avg       1.00      1.00      1.00        16\n",
      "\n"
     ]
    }
   ],
   "source": [
    "model_building(RandomForestClassifier(criterion='entropy',max_depth=4,max_features=0.25,min_samples_split=3,n_estimators=50),X_tfuni,'Rforest_tfuni')"
   ]
  },
  {
   "cell_type": "code",
   "execution_count": 57,
   "id": "e6b35a58",
   "metadata": {},
   "outputs": [],
   "source": [
    "#tuning(RandomForestClassifier(),params,X_tfbi)"
   ]
  },
  {
   "cell_type": "code",
   "execution_count": 58,
   "id": "bc68c27b",
   "metadata": {},
   "outputs": [
    {
     "data": {
      "image/png": "[encoded data removed]",
      "text/plain": [
       "<Figure size 500x300 with 2 Axes>"
      ]
     },
     "metadata": {},
     "output_type": "display_data"
    },
    {
     "name": "stdout",
     "output_type": "stream",
     "text": [
      "------------------------------ > Train Classification Report < ------------------------------\n",
      "              precision    recall  f1-score   support\n",
      "\n",
      "           0       1.00      1.00      1.00         2\n",
      "           1       1.00      1.00      1.00        17\n",
      "           2       1.00      1.00      1.00        17\n",
      "           3       1.00      1.00      1.00         9\n",
      "           4       1.00      1.00      1.00        16\n",
      "\n",
      "    accuracy                           1.00        61\n",
      "   macro avg       1.00      1.00      1.00        61\n",
      "weighted avg       1.00      1.00      1.00        61\n",
      "\n",
      "\n",
      "------------------------------ > Test Classification Report < ------------------------------\n",
      "              precision    recall  f1-score   support\n",
      "\n",
      "           1       1.00      0.67      0.80         3\n",
      "           2       0.50      1.00      0.67         3\n",
      "           3       1.00      0.60      0.75         5\n",
      "           4       1.00      1.00      1.00         5\n",
      "\n",
      "    accuracy                           0.81        16\n",
      "   macro avg       0.88      0.82      0.80        16\n",
      "weighted avg       0.91      0.81      0.82        16\n",
      "\n"
     ]
    }
   ],
   "source": [
    "model_building(RandomForestClassifier(criterion='entropy',max_depth=8,max_features=1.0,min_samples_split=2,n_estimators=50),X_tfbi,'Rforest_tfbi')"
   ]
  },
  {
   "cell_type": "code",
   "execution_count": 59,
   "id": "eb60f48e",
   "metadata": {},
   "outputs": [],
   "source": [
    "#tuning(RandomForestClassifier(),params,X_tfub)"
   ]
  },
  {
   "cell_type": "code",
   "execution_count": 60,
   "id": "4a8dcb60",
   "metadata": {},
   "outputs": [
    {
     "data": {
      "image/png": "[encoded data removed]",
      "text/plain": [
       "<Figure size 500x300 with 2 Axes>"
      ]
     },
     "metadata": {},
     "output_type": "display_data"
    },
    {
     "name": "stdout",
     "output_type": "stream",
     "text": [
      "------------------------------ > Train Classification Report < ------------------------------\n",
      "              precision    recall  f1-score   support\n",
      "\n",
      "           0       1.00      1.00      1.00         2\n",
      "           1       1.00      1.00      1.00        17\n",
      "           2       1.00      1.00      1.00        17\n",
      "           3       1.00      1.00      1.00         9\n",
      "           4       1.00      1.00      1.00        16\n",
      "\n",
      "    accuracy                           1.00        61\n",
      "   macro avg       1.00      1.00      1.00        61\n",
      "weighted avg       1.00      1.00      1.00        61\n",
      "\n",
      "\n",
      "------------------------------ > Test Classification Report < ------------------------------\n",
      "              precision    recall  f1-score   support\n",
      "\n",
      "           1       1.00      1.00      1.00         3\n",
      "           2       1.00      1.00      1.00         3\n",
      "           3       1.00      1.00      1.00         5\n",
      "           4       1.00      1.00      1.00         5\n",
      "\n",
      "    accuracy                           1.00        16\n",
      "   macro avg       1.00      1.00      1.00        16\n",
      "weighted avg       1.00      1.00      1.00        16\n",
      "\n"
     ]
    }
   ],
   "source": [
    "model_building(RandomForestClassifier(criterion='entropy',max_depth=4,max_features=0.5,min_samples_split=3,n_estimators=50),X_tfub,'Rforest_tfub')"
   ]
  },
  {
   "cell_type": "markdown",
   "id": "70589a3c",
   "metadata": {},
   "source": [
    "### XGBoost"
   ]
  },
  {
   "cell_type": "code",
   "execution_count": 61,
   "id": "56bddd87",
   "metadata": {},
   "outputs": [],
   "source": [
    "xgbparams={\"learning_rate\"    : [0.05, 0.15, 0.30] ,\n",
    " \"max_depth\"        : [ 3, 6, 10, 12, 15],\n",
    " \"min_child_weight\" : [ 1, 5, 7 ],\n",
    " \"gamma\"            : [ 0.0, 0.1, 0.2],\n",
    " \"colsample_bytree\" : [ 0.3, 0.5 , 0.7 ] }"
   ]
  },
  {
   "cell_type": "code",
   "execution_count": 62,
   "id": "370afa2e",
   "metadata": {},
   "outputs": [],
   "source": [
    "#tuning(XGBClassifier(),xgbparams,X_cuni)"
   ]
  },
  {
   "cell_type": "code",
   "execution_count": 63,
   "id": "6dc5a8fe",
   "metadata": {},
   "outputs": [
    {
     "data": {
      "image/png": "[encoded data removed]",
      "text/plain": [
       "<Figure size 500x300 with 2 Axes>"
      ]
     },
     "metadata": {},
     "output_type": "display_data"
    },
    {
     "name": "stdout",
     "output_type": "stream",
     "text": [
      "------------------------------ > Train Classification Report < ------------------------------\n",
      "              precision    recall  f1-score   support\n",
      "\n",
      "           0       1.00      1.00      1.00         2\n",
      "           1       1.00      1.00      1.00        17\n",
      "           2       1.00      1.00      1.00        17\n",
      "           3       1.00      1.00      1.00         9\n",
      "           4       1.00      1.00      1.00        16\n",
      "\n",
      "    accuracy                           1.00        61\n",
      "   macro avg       1.00      1.00      1.00        61\n",
      "weighted avg       1.00      1.00      1.00        61\n",
      "\n",
      "\n",
      "------------------------------ > Test Classification Report < ------------------------------\n",
      "              precision    recall  f1-score   support\n",
      "\n",
      "           1       1.00      1.00      1.00         3\n",
      "           2       1.00      1.00      1.00         3\n",
      "           3       1.00      1.00      1.00         5\n",
      "           4       1.00      1.00      1.00         5\n",
      "\n",
      "    accuracy                           1.00        16\n",
      "   macro avg       1.00      1.00      1.00        16\n",
      "weighted avg       1.00      1.00      1.00        16\n",
      "\n"
     ]
    }
   ],
   "source": [
    "model_building(XGBClassifier(colsample_bytree= 0.3,gamma= 0.0,learning_rate= 0.05,max_depth= 3,min_child_weight= 1),X_cuni,'XGB_cuni')"
   ]
  },
  {
   "cell_type": "code",
   "execution_count": 64,
   "id": "b317ab8b",
   "metadata": {},
   "outputs": [],
   "source": [
    "#tuning(XGBClassifier(),xgbparams,X_cbi)"
   ]
  },
  {
   "cell_type": "code",
   "execution_count": 65,
   "id": "7b558561",
   "metadata": {},
   "outputs": [
    {
     "data": {
      "image/png": "[encoded data removed]",
      "text/plain": [
       "<Figure size 500x300 with 2 Axes>"
      ]
     },
     "metadata": {},
     "output_type": "display_data"
    },
    {
     "name": "stdout",
     "output_type": "stream",
     "text": [
      "------------------------------ > Train Classification Report < ------------------------------\n",
      "              precision    recall  f1-score   support\n",
      "\n",
      "           0       0.00      0.00      0.00         2\n",
      "           1       1.00      0.88      0.94        17\n",
      "           2       0.74      1.00      0.85        17\n",
      "           3       1.00      0.78      0.88         9\n",
      "           4       1.00      1.00      1.00        16\n",
      "\n",
      "    accuracy                           0.90        61\n",
      "   macro avg       0.75      0.73      0.73        61\n",
      "weighted avg       0.89      0.90      0.89        61\n",
      "\n",
      "\n",
      "------------------------------ > Test Classification Report < ------------------------------\n",
      "              precision    recall  f1-score   support\n",
      "\n",
      "           1       1.00      1.00      1.00         3\n",
      "           2       0.50      1.00      0.67         3\n",
      "           3       1.00      0.60      0.75         5\n",
      "           4       1.00      0.80      0.89         5\n",
      "\n",
      "    accuracy                           0.81        16\n",
      "   macro avg       0.88      0.85      0.83        16\n",
      "weighted avg       0.91      0.81      0.82        16\n",
      "\n"
     ]
    }
   ],
   "source": [
    "model_building(XGBClassifier(colsample_bytree=0.3,gamma=0.0,learning_rate= 0.05,max_depth= 3,min_child_weight= 1),X_cbi,'XGB_cbi')"
   ]
  },
  {
   "cell_type": "code",
   "execution_count": 66,
   "id": "6a4349a2",
   "metadata": {},
   "outputs": [],
   "source": [
    "#tuning(XGBClassifier(),xgbparams,X_cub)"
   ]
  },
  {
   "cell_type": "code",
   "execution_count": 67,
   "id": "7e0b080c",
   "metadata": {},
   "outputs": [
    {
     "data": {
      "image/png": "[encoded data removed]",
      "text/plain": [
       "<Figure size 500x300 with 2 Axes>"
      ]
     },
     "metadata": {},
     "output_type": "display_data"
    },
    {
     "name": "stdout",
     "output_type": "stream",
     "text": [
      "------------------------------ > Train Classification Report < ------------------------------\n",
      "              precision    recall  f1-score   support\n",
      "\n",
      "           0       1.00      1.00      1.00         2\n",
      "           1       1.00      1.00      1.00        17\n",
      "           2       1.00      1.00      1.00        17\n",
      "           3       1.00      1.00      1.00         9\n",
      "           4       1.00      1.00      1.00        16\n",
      "\n",
      "    accuracy                           1.00        61\n",
      "   macro avg       1.00      1.00      1.00        61\n",
      "weighted avg       1.00      1.00      1.00        61\n",
      "\n",
      "\n",
      "------------------------------ > Test Classification Report < ------------------------------\n",
      "              precision    recall  f1-score   support\n",
      "\n",
      "           1       1.00      1.00      1.00         3\n",
      "           2       0.75      1.00      0.86         3\n",
      "           3       1.00      0.80      0.89         5\n",
      "           4       1.00      1.00      1.00         5\n",
      "\n",
      "    accuracy                           0.94        16\n",
      "   macro avg       0.94      0.95      0.94        16\n",
      "weighted avg       0.95      0.94      0.94        16\n",
      "\n"
     ]
    }
   ],
   "source": [
    "model_building(XGBClassifier(colsample_bytree=0.5,gamma= 0.0,learning_rate=0.15,max_depth= 3,min_child_weight= 1),X_cub,'XGB_cub')"
   ]
  },
  {
   "cell_type": "code",
   "execution_count": 68,
   "id": "37d45764",
   "metadata": {},
   "outputs": [],
   "source": [
    "#tuning(XGBClassifier(),xgbparams,X_tfuni)"
   ]
  },
  {
   "cell_type": "code",
   "execution_count": 69,
   "id": "9d776737",
   "metadata": {},
   "outputs": [
    {
     "data": {
      "image/png": "[encoded data removed]",
      "text/plain": [
       "<Figure size 500x300 with 2 Axes>"
      ]
     },
     "metadata": {},
     "output_type": "display_data"
    },
    {
     "name": "stdout",
     "output_type": "stream",
     "text": [
      "------------------------------ > Train Classification Report < ------------------------------\n",
      "              precision    recall  f1-score   support\n",
      "\n",
      "           0       1.00      1.00      1.00         2\n",
      "           1       1.00      1.00      1.00        17\n",
      "           2       1.00      1.00      1.00        17\n",
      "           3       1.00      1.00      1.00         9\n",
      "           4       1.00      1.00      1.00        16\n",
      "\n",
      "    accuracy                           1.00        61\n",
      "   macro avg       1.00      1.00      1.00        61\n",
      "weighted avg       1.00      1.00      1.00        61\n",
      "\n",
      "\n",
      "------------------------------ > Test Classification Report < ------------------------------\n",
      "              precision    recall  f1-score   support\n",
      "\n",
      "           1       1.00      1.00      1.00         3\n",
      "           2       1.00      1.00      1.00         3\n",
      "           3       1.00      1.00      1.00         5\n",
      "           4       1.00      1.00      1.00         5\n",
      "\n",
      "    accuracy                           1.00        16\n",
      "   macro avg       1.00      1.00      1.00        16\n",
      "weighted avg       1.00      1.00      1.00        16\n",
      "\n"
     ]
    }
   ],
   "source": [
    "model_building(XGBClassifier(colsample_bytree=0.3,gamma= 0.0,learning_rate=0.05,max_depth= 3,min_child_weight= 1),X_tfuni,'XGB_tfuni')"
   ]
  },
  {
   "cell_type": "code",
   "execution_count": 70,
   "id": "ac0918be",
   "metadata": {},
   "outputs": [],
   "source": [
    "#tuning(XGBClassifier(),xgbparams,X_tfbi)"
   ]
  },
  {
   "cell_type": "code",
   "execution_count": 71,
   "id": "aa5fd49f",
   "metadata": {},
   "outputs": [
    {
     "data": {
      "image/png": "[encoded data removed]",
      "text/plain": [
       "<Figure size 500x300 with 2 Axes>"
      ]
     },
     "metadata": {},
     "output_type": "display_data"
    },
    {
     "name": "stdout",
     "output_type": "stream",
     "text": [
      "------------------------------ > Train Classification Report < ------------------------------\n",
      "              precision    recall  f1-score   support\n",
      "\n",
      "           0       1.00      1.00      1.00         2\n",
      "           1       1.00      1.00      1.00        17\n",
      "           2       1.00      1.00      1.00        17\n",
      "           3       1.00      1.00      1.00         9\n",
      "           4       1.00      1.00      1.00        16\n",
      "\n",
      "    accuracy                           1.00        61\n",
      "   macro avg       1.00      1.00      1.00        61\n",
      "weighted avg       1.00      1.00      1.00        61\n",
      "\n",
      "\n",
      "------------------------------ > Test Classification Report < ------------------------------\n",
      "              precision    recall  f1-score   support\n",
      "\n",
      "           1       1.00      1.00      1.00         3\n",
      "           2       0.75      1.00      0.86         3\n",
      "           3       1.00      0.80      0.89         5\n",
      "           4       1.00      1.00      1.00         5\n",
      "\n",
      "    accuracy                           0.94        16\n",
      "   macro avg       0.94      0.95      0.94        16\n",
      "weighted avg       0.95      0.94      0.94        16\n",
      "\n"
     ]
    }
   ],
   "source": [
    "model_building(XGBClassifier(colsample_bytree=0.3,gamma= 0.0,learning_rate=0.05,max_depth= 3,min_child_weight= 1),X_tfbi,'XGB_tfbi')"
   ]
  },
  {
   "cell_type": "code",
   "execution_count": 72,
   "id": "b85ca10a",
   "metadata": {},
   "outputs": [],
   "source": [
    "#tuning(XGBClassifier(),xgbparams,X_tfub)"
   ]
  },
  {
   "cell_type": "code",
   "execution_count": 73,
   "id": "2a253c58",
   "metadata": {},
   "outputs": [
    {
     "data": {
      "image/png": "[encoded data removed]",
      "text/plain": [
       "<Figure size 500x300 with 2 Axes>"
      ]
     },
     "metadata": {},
     "output_type": "display_data"
    },
    {
     "name": "stdout",
     "output_type": "stream",
     "text": [
      "------------------------------ > Train Classification Report < ------------------------------\n",
      "              precision    recall  f1-score   support\n",
      "\n",
      "           0       1.00      1.00      1.00         2\n",
      "           1       1.00      1.00      1.00        17\n",
      "           2       1.00      1.00      1.00        17\n",
      "           3       1.00      1.00      1.00         9\n",
      "           4       1.00      1.00      1.00        16\n",
      "\n",
      "    accuracy                           1.00        61\n",
      "   macro avg       1.00      1.00      1.00        61\n",
      "weighted avg       1.00      1.00      1.00        61\n",
      "\n",
      "\n",
      "------------------------------ > Test Classification Report < ------------------------------\n",
      "              precision    recall  f1-score   support\n",
      "\n",
      "           1       1.00      1.00      1.00         3\n",
      "           2       1.00      1.00      1.00         3\n",
      "           3       1.00      1.00      1.00         5\n",
      "           4       1.00      1.00      1.00         5\n",
      "\n",
      "    accuracy                           1.00        16\n",
      "   macro avg       1.00      1.00      1.00        16\n",
      "weighted avg       1.00      1.00      1.00        16\n",
      "\n"
     ]
    }
   ],
   "source": [
    "model_building(XGBClassifier(colsample_bytree=0.3,gamma= 0.0,learning_rate=0.05,max_depth= 3,min_child_weight= 1),X_tfub,'XGB_tfub')"
   ]
  },
  {
   "cell_type": "markdown",
   "id": "2f2bec7e",
   "metadata": {},
   "source": [
    "### Naive bayers classifier"
   ]
  },
  {
   "cell_type": "code",
   "execution_count": 74,
   "id": "2677d2cc",
   "metadata": {},
   "outputs": [],
   "source": [
    "param_Naive= {'alpha': [0.1, 0.5, 1.0, 2.0, 5.0, 10.0]}"
   ]
  },
  {
   "cell_type": "code",
   "execution_count": 75,
   "id": "c8412f68",
   "metadata": {},
   "outputs": [],
   "source": [
    "#tuning(MultinomialNB(),param_Naive,X_cuni)"
   ]
  },
  {
   "cell_type": "code",
   "execution_count": 76,
   "id": "b55af34f",
   "metadata": {},
   "outputs": [
    {
     "data": {
      "image/png": "[encoded data removed]",
      "text/plain": [
       "<Figure size 500x300 with 2 Axes>"
      ]
     },
     "metadata": {},
     "output_type": "display_data"
    },
    {
     "name": "stdout",
     "output_type": "stream",
     "text": [
      "------------------------------ > Train Classification Report < ------------------------------\n",
      "              precision    recall  f1-score   support\n",
      "\n",
      "           0       1.00      1.00      1.00         2\n",
      "           1       1.00      1.00      1.00        17\n",
      "           2       1.00      1.00      1.00        17\n",
      "           3       1.00      1.00      1.00         9\n",
      "           4       1.00      1.00      1.00        16\n",
      "\n",
      "    accuracy                           1.00        61\n",
      "   macro avg       1.00      1.00      1.00        61\n",
      "weighted avg       1.00      1.00      1.00        61\n",
      "\n",
      "\n",
      "------------------------------ > Test Classification Report < ------------------------------\n",
      "              precision    recall  f1-score   support\n",
      "\n",
      "           1       1.00      1.00      1.00         3\n",
      "           2       0.75      1.00      0.86         3\n",
      "           3       1.00      0.80      0.89         5\n",
      "           4       1.00      1.00      1.00         5\n",
      "\n",
      "    accuracy                           0.94        16\n",
      "   macro avg       0.94      0.95      0.94        16\n",
      "weighted avg       0.95      0.94      0.94        16\n",
      "\n"
     ]
    }
   ],
   "source": [
    "model_building(MultinomialNB(alpha=0.1),X_cuni,'Naive_cuni')"
   ]
  },
  {
   "cell_type": "code",
   "execution_count": 77,
   "id": "df525d5b",
   "metadata": {},
   "outputs": [],
   "source": [
    "#tuning(MultinomialNB(),param_Naive,X_cbi)"
   ]
  },
  {
   "cell_type": "code",
   "execution_count": 78,
   "id": "705ae07c",
   "metadata": {},
   "outputs": [
    {
     "data": {
      "image/png": "[encoded data removed]",
      "text/plain": [
       "<Figure size 500x300 with 2 Axes>"
      ]
     },
     "metadata": {},
     "output_type": "display_data"
    },
    {
     "name": "stdout",
     "output_type": "stream",
     "text": [
      "------------------------------ > Train Classification Report < ------------------------------\n",
      "              precision    recall  f1-score   support\n",
      "\n",
      "           0       1.00      1.00      1.00         2\n",
      "           1       1.00      1.00      1.00        17\n",
      "           2       1.00      1.00      1.00        17\n",
      "           3       1.00      1.00      1.00         9\n",
      "           4       1.00      1.00      1.00        16\n",
      "\n",
      "    accuracy                           1.00        61\n",
      "   macro avg       1.00      1.00      1.00        61\n",
      "weighted avg       1.00      1.00      1.00        61\n",
      "\n",
      "\n",
      "------------------------------ > Test Classification Report < ------------------------------\n",
      "              precision    recall  f1-score   support\n",
      "\n",
      "           0       0.00      0.00      0.00         0\n",
      "           1       1.00      1.00      1.00         3\n",
      "           2       0.67      0.67      0.67         3\n",
      "           3       1.00      0.40      0.57         5\n",
      "           4       1.00      0.60      0.75         5\n",
      "\n",
      "    accuracy                           0.62        16\n",
      "   macro avg       0.73      0.53      0.60        16\n",
      "weighted avg       0.94      0.62      0.73        16\n",
      "\n"
     ]
    }
   ],
   "source": [
    "model_building(MultinomialNB(alpha=1.0),X_cbi,'Naive_cbi')"
   ]
  },
  {
   "cell_type": "code",
   "execution_count": 79,
   "id": "9e5bc570",
   "metadata": {},
   "outputs": [],
   "source": [
    "#tuning(MultinomialNB(),param_Naive,X_cub)"
   ]
  },
  {
   "cell_type": "code",
   "execution_count": 80,
   "id": "8797f033",
   "metadata": {},
   "outputs": [
    {
     "data": {
      "image/png": "[encoded data removed]",
      "text/plain": [
       "<Figure size 500x300 with 2 Axes>"
      ]
     },
     "metadata": {},
     "output_type": "display_data"
    },
    {
     "name": "stdout",
     "output_type": "stream",
     "text": [
      "------------------------------ > Train Classification Report < ------------------------------\n",
      "              precision    recall  f1-score   support\n",
      "\n",
      "           0       1.00      1.00      1.00         2\n",
      "           1       1.00      1.00      1.00        17\n",
      "           2       1.00      1.00      1.00        17\n",
      "           3       1.00      1.00      1.00         9\n",
      "           4       1.00      1.00      1.00        16\n",
      "\n",
      "    accuracy                           1.00        61\n",
      "   macro avg       1.00      1.00      1.00        61\n",
      "weighted avg       1.00      1.00      1.00        61\n",
      "\n",
      "\n",
      "------------------------------ > Test Classification Report < ------------------------------\n",
      "              precision    recall  f1-score   support\n",
      "\n",
      "           1       1.00      1.00      1.00         3\n",
      "           2       1.00      1.00      1.00         3\n",
      "           3       1.00      1.00      1.00         5\n",
      "           4       1.00      1.00      1.00         5\n",
      "\n",
      "    accuracy                           1.00        16\n",
      "   macro avg       1.00      1.00      1.00        16\n",
      "weighted avg       1.00      1.00      1.00        16\n",
      "\n"
     ]
    }
   ],
   "source": [
    "model_building(MultinomialNB(alpha=0.5),X_cub,'Naive_cub')"
   ]
  },
  {
   "cell_type": "code",
   "execution_count": 81,
   "id": "0b893ce0",
   "metadata": {},
   "outputs": [],
   "source": [
    "#tuning(MultinomialNB(),param_Naive,X_tfuni)"
   ]
  },
  {
   "cell_type": "code",
   "execution_count": 82,
   "id": "6766ce7e",
   "metadata": {},
   "outputs": [
    {
     "data": {
      "image/png": "[encoded data removed]",
      "text/plain": [
       "<Figure size 500x300 with 2 Axes>"
      ]
     },
     "metadata": {},
     "output_type": "display_data"
    },
    {
     "name": "stdout",
     "output_type": "stream",
     "text": [
      "------------------------------ > Train Classification Report < ------------------------------\n",
      "              precision    recall  f1-score   support\n",
      "\n",
      "           0       1.00      1.00      1.00         2\n",
      "           1       1.00      1.00      1.00        17\n",
      "           2       1.00      1.00      1.00        17\n",
      "           3       1.00      1.00      1.00         9\n",
      "           4       1.00      1.00      1.00        16\n",
      "\n",
      "    accuracy                           1.00        61\n",
      "   macro avg       1.00      1.00      1.00        61\n",
      "weighted avg       1.00      1.00      1.00        61\n",
      "\n",
      "\n",
      "------------------------------ > Test Classification Report < ------------------------------\n",
      "              precision    recall  f1-score   support\n",
      "\n",
      "           1       1.00      1.00      1.00         3\n",
      "           2       1.00      1.00      1.00         3\n",
      "           3       1.00      1.00      1.00         5\n",
      "           4       1.00      1.00      1.00         5\n",
      "\n",
      "    accuracy                           1.00        16\n",
      "   macro avg       1.00      1.00      1.00        16\n",
      "weighted avg       1.00      1.00      1.00        16\n",
      "\n"
     ]
    }
   ],
   "source": [
    "model_building(MultinomialNB(alpha=0.1),X_tfuni,'Naive_tfuni')"
   ]
  },
  {
   "cell_type": "code",
   "execution_count": 83,
   "id": "c082d524",
   "metadata": {},
   "outputs": [],
   "source": [
    "#tuning(MultinomialNB(),param_Naive,X_tfbi)"
   ]
  },
  {
   "cell_type": "code",
   "execution_count": 84,
   "id": "1245560d",
   "metadata": {},
   "outputs": [
    {
     "data": {
      "image/png": "[encoded data removed]",
      "text/plain": [
       "<Figure size 500x300 with 2 Axes>"
      ]
     },
     "metadata": {},
     "output_type": "display_data"
    },
    {
     "name": "stdout",
     "output_type": "stream",
     "text": [
      "------------------------------ > Train Classification Report < ------------------------------\n",
      "              precision    recall  f1-score   support\n",
      "\n",
      "           0       1.00      1.00      1.00         2\n",
      "           1       1.00      1.00      1.00        17\n",
      "           2       1.00      1.00      1.00        17\n",
      "           3       1.00      1.00      1.00         9\n",
      "           4       1.00      1.00      1.00        16\n",
      "\n",
      "    accuracy                           1.00        61\n",
      "   macro avg       1.00      1.00      1.00        61\n",
      "weighted avg       1.00      1.00      1.00        61\n",
      "\n",
      "\n",
      "------------------------------ > Test Classification Report < ------------------------------\n",
      "              precision    recall  f1-score   support\n",
      "\n",
      "           1       1.00      1.00      1.00         3\n",
      "           2       1.00      1.00      1.00         3\n",
      "           3       1.00      1.00      1.00         5\n",
      "           4       1.00      1.00      1.00         5\n",
      "\n",
      "    accuracy                           1.00        16\n",
      "   macro avg       1.00      1.00      1.00        16\n",
      "weighted avg       1.00      1.00      1.00        16\n",
      "\n"
     ]
    }
   ],
   "source": [
    "model_building(MultinomialNB(alpha=0.1),X_tfbi,'Naive_tfbi')"
   ]
  },
  {
   "cell_type": "code",
   "execution_count": 85,
   "id": "b3c875b7",
   "metadata": {},
   "outputs": [],
   "source": [
    "#tuning(MultinomialNB(),param_Naive,X_tfub)"
   ]
  },
  {
   "cell_type": "code",
   "execution_count": 86,
   "id": "bc620b6c",
   "metadata": {},
   "outputs": [
    {
     "data": {
      "image/png": "[encoded data removed]",
      "text/plain": [
       "<Figure size 500x300 with 2 Axes>"
      ]
     },
     "metadata": {},
     "output_type": "display_data"
    },
    {
     "name": "stdout",
     "output_type": "stream",
     "text": [
      "------------------------------ > Train Classification Report < ------------------------------\n",
      "              precision    recall  f1-score   support\n",
      "\n",
      "           0       1.00      1.00      1.00         2\n",
      "           1       1.00      1.00      1.00        17\n",
      "           2       1.00      1.00      1.00        17\n",
      "           3       1.00      1.00      1.00         9\n",
      "           4       1.00      1.00      1.00        16\n",
      "\n",
      "    accuracy                           1.00        61\n",
      "   macro avg       1.00      1.00      1.00        61\n",
      "weighted avg       1.00      1.00      1.00        61\n",
      "\n",
      "\n",
      "------------------------------ > Test Classification Report < ------------------------------\n",
      "              precision    recall  f1-score   support\n",
      "\n",
      "           1       1.00      1.00      1.00         3\n",
      "           2       1.00      1.00      1.00         3\n",
      "           3       1.00      1.00      1.00         5\n",
      "           4       1.00      1.00      1.00         5\n",
      "\n",
      "    accuracy                           1.00        16\n",
      "   macro avg       1.00      1.00      1.00        16\n",
      "weighted avg       1.00      1.00      1.00        16\n",
      "\n"
     ]
    }
   ],
   "source": [
    "model_building(MultinomialNB(alpha=0.1),X_tfub,'Naive_tfub')"
   ]
  },
  {
   "cell_type": "code",
   "execution_count": 87,
   "id": "a3c6a04a",
   "metadata": {},
   "outputs": [
    {
     "data": {
      "text/plain": [
       "(0.0, 1.3)"
      ]
     },
     "execution_count": 87,
     "metadata": {},
     "output_type": "execute_result"
    },
    {
     "data": {
      "image/png": "[encoded data removed]",
      "text/plain": [
       "<Figure size 1200x500 with 1 Axes>"
      ]
     },
     "metadata": {},
     "output_type": "display_data"
    }
   ],
   "source": [
    "plt.figure(figsize=(12,5))\n",
    "sns.barplot(data=result.transpose().sort_values(by='test_accuracy'),x=result.transpose().sort_values(by='test_accuracy').index,y='test_accuracy',palette='rocket')\n",
    "sns.lineplot(data=result.transpose().sort_values(by='test_accuracy'),x=result.transpose().sort_values(by='test_accuracy').index,y='test_accuracy',linestyle='dotted',marker='*',markersize=5,markerfacecolor='blue',markeredgecolor='midnightblue',color='red')\n",
    "plt.tick_params(axis='x',labelrotation=90)\n",
    "plt.ylim(top=1.3)"
   ]
  },
  {
   "cell_type": "code",
   "execution_count": 88,
   "id": "668a3a21",
   "metadata": {},
   "outputs": [],
   "source": [
    "result_final=result.transpose()"
   ]
  },
  {
   "cell_type": "code",
   "execution_count": 89,
   "id": "ca906932",
   "metadata": {},
   "outputs": [
    {
     "data": {
      "text/html": [
       "<div>\n",
       "<style scoped>\n",
       "    .dataframe tbody tr th:only-of-type {\n",
       "        vertical-align: middle;\n",
       "    }\n",
       "\n",
       "    .dataframe tbody tr th {\n",
       "        vertical-align: top;\n",
       "    }\n",
       "\n",
       "    .dataframe thead th {\n",
       "        text-align: right;\n",
       "    }\n",
       "</style>\n",
       "<table border=\"1\" class=\"dataframe\">\n",
       "  <thead>\n",
       "    <tr style=\"text-align: right;\">\n",
       "      <th></th>\n",
       "      <th>train_accuracy</th>\n",
       "      <th>train_precision</th>\n",
       "      <th>train_recall</th>\n",
       "      <th>train_f1score</th>\n",
       "      <th>test_accuracy</th>\n",
       "      <th>test_precision</th>\n",
       "      <th>test_recall</th>\n",
       "      <th>test_f1score</th>\n",
       "    </tr>\n",
       "  </thead>\n",
       "  <tbody>\n",
       "    <tr>\n",
       "      <th>Logistic_regression_cuni</th>\n",
       "      <td>1.000000</td>\n",
       "      <td>1.000000</td>\n",
       "      <td>1.000000</td>\n",
       "      <td>1.000000</td>\n",
       "      <td>0.9375</td>\n",
       "      <td>0.937500</td>\n",
       "      <td>0.950000</td>\n",
       "      <td>0.936508</td>\n",
       "    </tr>\n",
       "    <tr>\n",
       "      <th>Logistic_regression_cbi</th>\n",
       "      <td>1.000000</td>\n",
       "      <td>1.000000</td>\n",
       "      <td>1.000000</td>\n",
       "      <td>1.000000</td>\n",
       "      <td>0.6250</td>\n",
       "      <td>0.833333</td>\n",
       "      <td>0.700000</td>\n",
       "      <td>0.645833</td>\n",
       "    </tr>\n",
       "    <tr>\n",
       "      <th>Logistic_regression_cub</th>\n",
       "      <td>1.000000</td>\n",
       "      <td>1.000000</td>\n",
       "      <td>1.000000</td>\n",
       "      <td>1.000000</td>\n",
       "      <td>0.9375</td>\n",
       "      <td>0.937500</td>\n",
       "      <td>0.950000</td>\n",
       "      <td>0.936508</td>\n",
       "    </tr>\n",
       "    <tr>\n",
       "      <th>Logistic_regression_tfuni</th>\n",
       "      <td>0.967213</td>\n",
       "      <td>0.778947</td>\n",
       "      <td>0.800000</td>\n",
       "      <td>0.788889</td>\n",
       "      <td>0.9375</td>\n",
       "      <td>0.937500</td>\n",
       "      <td>0.950000</td>\n",
       "      <td>0.936508</td>\n",
       "    </tr>\n",
       "    <tr>\n",
       "      <th>Logistic_regression_tfbi</th>\n",
       "      <td>0.967213</td>\n",
       "      <td>0.778947</td>\n",
       "      <td>0.800000</td>\n",
       "      <td>0.788889</td>\n",
       "      <td>0.7500</td>\n",
       "      <td>0.857143</td>\n",
       "      <td>0.800000</td>\n",
       "      <td>0.733333</td>\n",
       "    </tr>\n",
       "    <tr>\n",
       "      <th>Logistic_regression_tfub</th>\n",
       "      <td>0.967213</td>\n",
       "      <td>0.778947</td>\n",
       "      <td>0.800000</td>\n",
       "      <td>0.788889</td>\n",
       "      <td>0.8125</td>\n",
       "      <td>0.875000</td>\n",
       "      <td>0.850000</td>\n",
       "      <td>0.809524</td>\n",
       "    </tr>\n",
       "    <tr>\n",
       "      <th>Dtree_cuni</th>\n",
       "      <td>1.000000</td>\n",
       "      <td>1.000000</td>\n",
       "      <td>1.000000</td>\n",
       "      <td>1.000000</td>\n",
       "      <td>0.8750</td>\n",
       "      <td>0.900000</td>\n",
       "      <td>0.900000</td>\n",
       "      <td>0.881944</td>\n",
       "    </tr>\n",
       "    <tr>\n",
       "      <th>Dtree_cbi</th>\n",
       "      <td>1.000000</td>\n",
       "      <td>1.000000</td>\n",
       "      <td>1.000000</td>\n",
       "      <td>1.000000</td>\n",
       "      <td>0.6875</td>\n",
       "      <td>0.773810</td>\n",
       "      <td>0.750000</td>\n",
       "      <td>0.712500</td>\n",
       "    </tr>\n",
       "    <tr>\n",
       "      <th>Dtree_cub</th>\n",
       "      <td>1.000000</td>\n",
       "      <td>1.000000</td>\n",
       "      <td>1.000000</td>\n",
       "      <td>1.000000</td>\n",
       "      <td>0.9375</td>\n",
       "      <td>0.937500</td>\n",
       "      <td>0.950000</td>\n",
       "      <td>0.936508</td>\n",
       "    </tr>\n",
       "    <tr>\n",
       "      <th>Dtree_tfuni</th>\n",
       "      <td>1.000000</td>\n",
       "      <td>1.000000</td>\n",
       "      <td>1.000000</td>\n",
       "      <td>1.000000</td>\n",
       "      <td>0.9375</td>\n",
       "      <td>0.800000</td>\n",
       "      <td>0.733333</td>\n",
       "      <td>0.760000</td>\n",
       "    </tr>\n",
       "    <tr>\n",
       "      <th>Dtree_tfbi</th>\n",
       "      <td>1.000000</td>\n",
       "      <td>1.000000</td>\n",
       "      <td>1.000000</td>\n",
       "      <td>1.000000</td>\n",
       "      <td>0.8750</td>\n",
       "      <td>0.900000</td>\n",
       "      <td>0.866667</td>\n",
       "      <td>0.859722</td>\n",
       "    </tr>\n",
       "    <tr>\n",
       "      <th>Dtree_tfub</th>\n",
       "      <td>1.000000</td>\n",
       "      <td>1.000000</td>\n",
       "      <td>1.000000</td>\n",
       "      <td>1.000000</td>\n",
       "      <td>0.9375</td>\n",
       "      <td>0.800000</td>\n",
       "      <td>0.733333</td>\n",
       "      <td>0.760000</td>\n",
       "    </tr>\n",
       "    <tr>\n",
       "      <th>SVC_cuni</th>\n",
       "      <td>1.000000</td>\n",
       "      <td>1.000000</td>\n",
       "      <td>1.000000</td>\n",
       "      <td>1.000000</td>\n",
       "      <td>0.9375</td>\n",
       "      <td>0.937500</td>\n",
       "      <td>0.950000</td>\n",
       "      <td>0.936508</td>\n",
       "    </tr>\n",
       "    <tr>\n",
       "      <th>SVC_cbi</th>\n",
       "      <td>0.885246</td>\n",
       "      <td>0.708947</td>\n",
       "      <td>0.727778</td>\n",
       "      <td>0.712522</td>\n",
       "      <td>0.8125</td>\n",
       "      <td>0.858333</td>\n",
       "      <td>0.850000</td>\n",
       "      <td>0.807630</td>\n",
       "    </tr>\n",
       "    <tr>\n",
       "      <th>SVC_cub</th>\n",
       "      <td>1.000000</td>\n",
       "      <td>1.000000</td>\n",
       "      <td>1.000000</td>\n",
       "      <td>1.000000</td>\n",
       "      <td>0.9375</td>\n",
       "      <td>0.937500</td>\n",
       "      <td>0.950000</td>\n",
       "      <td>0.936508</td>\n",
       "    </tr>\n",
       "    <tr>\n",
       "      <th>SVC_tfuni</th>\n",
       "      <td>1.000000</td>\n",
       "      <td>1.000000</td>\n",
       "      <td>1.000000</td>\n",
       "      <td>1.000000</td>\n",
       "      <td>0.9375</td>\n",
       "      <td>0.937500</td>\n",
       "      <td>0.950000</td>\n",
       "      <td>0.936508</td>\n",
       "    </tr>\n",
       "    <tr>\n",
       "      <th>SVC_tfbi</th>\n",
       "      <td>1.000000</td>\n",
       "      <td>1.000000</td>\n",
       "      <td>1.000000</td>\n",
       "      <td>1.000000</td>\n",
       "      <td>0.8125</td>\n",
       "      <td>0.875000</td>\n",
       "      <td>0.850000</td>\n",
       "      <td>0.809524</td>\n",
       "    </tr>\n",
       "    <tr>\n",
       "      <th>SVC_tfub</th>\n",
       "      <td>1.000000</td>\n",
       "      <td>1.000000</td>\n",
       "      <td>1.000000</td>\n",
       "      <td>1.000000</td>\n",
       "      <td>0.9375</td>\n",
       "      <td>0.937500</td>\n",
       "      <td>0.950000</td>\n",
       "      <td>0.936508</td>\n",
       "    </tr>\n",
       "    <tr>\n",
       "      <th>Rforest_cuni</th>\n",
       "      <td>1.000000</td>\n",
       "      <td>1.000000</td>\n",
       "      <td>1.000000</td>\n",
       "      <td>1.000000</td>\n",
       "      <td>1.0000</td>\n",
       "      <td>1.000000</td>\n",
       "      <td>1.000000</td>\n",
       "      <td>1.000000</td>\n",
       "    </tr>\n",
       "    <tr>\n",
       "      <th>Rforest_cbi</th>\n",
       "      <td>0.721311</td>\n",
       "      <td>0.500000</td>\n",
       "      <td>0.527206</td>\n",
       "      <td>0.493289</td>\n",
       "      <td>0.5625</td>\n",
       "      <td>0.575000</td>\n",
       "      <td>0.650000</td>\n",
       "      <td>0.552885</td>\n",
       "    </tr>\n",
       "    <tr>\n",
       "      <th>Rforest_cub</th>\n",
       "      <td>0.967213</td>\n",
       "      <td>0.778947</td>\n",
       "      <td>0.800000</td>\n",
       "      <td>0.788889</td>\n",
       "      <td>1.0000</td>\n",
       "      <td>1.000000</td>\n",
       "      <td>1.000000</td>\n",
       "      <td>1.000000</td>\n",
       "    </tr>\n",
       "    <tr>\n",
       "      <th>Rforest_tfuni</th>\n",
       "      <td>0.983607</td>\n",
       "      <td>0.988889</td>\n",
       "      <td>0.900000</td>\n",
       "      <td>0.927619</td>\n",
       "      <td>1.0000</td>\n",
       "      <td>1.000000</td>\n",
       "      <td>1.000000</td>\n",
       "      <td>1.000000</td>\n",
       "    </tr>\n",
       "    <tr>\n",
       "      <th>Rforest_tfbi</th>\n",
       "      <td>1.000000</td>\n",
       "      <td>1.000000</td>\n",
       "      <td>1.000000</td>\n",
       "      <td>1.000000</td>\n",
       "      <td>0.8125</td>\n",
       "      <td>0.875000</td>\n",
       "      <td>0.816667</td>\n",
       "      <td>0.804167</td>\n",
       "    </tr>\n",
       "    <tr>\n",
       "      <th>Rforest_tfub</th>\n",
       "      <td>1.000000</td>\n",
       "      <td>1.000000</td>\n",
       "      <td>1.000000</td>\n",
       "      <td>1.000000</td>\n",
       "      <td>1.0000</td>\n",
       "      <td>1.000000</td>\n",
       "      <td>1.000000</td>\n",
       "      <td>1.000000</td>\n",
       "    </tr>\n",
       "    <tr>\n",
       "      <th>XGB_cuni</th>\n",
       "      <td>1.000000</td>\n",
       "      <td>1.000000</td>\n",
       "      <td>1.000000</td>\n",
       "      <td>1.000000</td>\n",
       "      <td>1.0000</td>\n",
       "      <td>1.000000</td>\n",
       "      <td>1.000000</td>\n",
       "      <td>1.000000</td>\n",
       "    </tr>\n",
       "    <tr>\n",
       "      <th>XGB_cbi</th>\n",
       "      <td>0.901639</td>\n",
       "      <td>0.747826</td>\n",
       "      <td>0.732026</td>\n",
       "      <td>0.732500</td>\n",
       "      <td>0.8125</td>\n",
       "      <td>0.875000</td>\n",
       "      <td>0.850000</td>\n",
       "      <td>0.826389</td>\n",
       "    </tr>\n",
       "    <tr>\n",
       "      <th>XGB_cub</th>\n",
       "      <td>1.000000</td>\n",
       "      <td>1.000000</td>\n",
       "      <td>1.000000</td>\n",
       "      <td>1.000000</td>\n",
       "      <td>0.9375</td>\n",
       "      <td>0.937500</td>\n",
       "      <td>0.950000</td>\n",
       "      <td>0.936508</td>\n",
       "    </tr>\n",
       "    <tr>\n",
       "      <th>XGB_tfuni</th>\n",
       "      <td>1.000000</td>\n",
       "      <td>1.000000</td>\n",
       "      <td>1.000000</td>\n",
       "      <td>1.000000</td>\n",
       "      <td>1.0000</td>\n",
       "      <td>1.000000</td>\n",
       "      <td>1.000000</td>\n",
       "      <td>1.000000</td>\n",
       "    </tr>\n",
       "    <tr>\n",
       "      <th>XGB_tfbi</th>\n",
       "      <td>1.000000</td>\n",
       "      <td>1.000000</td>\n",
       "      <td>1.000000</td>\n",
       "      <td>1.000000</td>\n",
       "      <td>0.9375</td>\n",
       "      <td>0.937500</td>\n",
       "      <td>0.950000</td>\n",
       "      <td>0.936508</td>\n",
       "    </tr>\n",
       "    <tr>\n",
       "      <th>XGB_tfub</th>\n",
       "      <td>1.000000</td>\n",
       "      <td>1.000000</td>\n",
       "      <td>1.000000</td>\n",
       "      <td>1.000000</td>\n",
       "      <td>1.0000</td>\n",
       "      <td>1.000000</td>\n",
       "      <td>1.000000</td>\n",
       "      <td>1.000000</td>\n",
       "    </tr>\n",
       "    <tr>\n",
       "      <th>Naive_cuni</th>\n",
       "      <td>1.000000</td>\n",
       "      <td>1.000000</td>\n",
       "      <td>1.000000</td>\n",
       "      <td>1.000000</td>\n",
       "      <td>0.9375</td>\n",
       "      <td>0.937500</td>\n",
       "      <td>0.950000</td>\n",
       "      <td>0.936508</td>\n",
       "    </tr>\n",
       "    <tr>\n",
       "      <th>Naive_cbi</th>\n",
       "      <td>1.000000</td>\n",
       "      <td>1.000000</td>\n",
       "      <td>1.000000</td>\n",
       "      <td>1.000000</td>\n",
       "      <td>0.6250</td>\n",
       "      <td>0.733333</td>\n",
       "      <td>0.533333</td>\n",
       "      <td>0.597619</td>\n",
       "    </tr>\n",
       "    <tr>\n",
       "      <th>Naive_cub</th>\n",
       "      <td>1.000000</td>\n",
       "      <td>1.000000</td>\n",
       "      <td>1.000000</td>\n",
       "      <td>1.000000</td>\n",
       "      <td>1.0000</td>\n",
       "      <td>1.000000</td>\n",
       "      <td>1.000000</td>\n",
       "      <td>1.000000</td>\n",
       "    </tr>\n",
       "    <tr>\n",
       "      <th>Naive_tfuni</th>\n",
       "      <td>1.000000</td>\n",
       "      <td>1.000000</td>\n",
       "      <td>1.000000</td>\n",
       "      <td>1.000000</td>\n",
       "      <td>1.0000</td>\n",
       "      <td>1.000000</td>\n",
       "      <td>1.000000</td>\n",
       "      <td>1.000000</td>\n",
       "    </tr>\n",
       "    <tr>\n",
       "      <th>Naive_tfbi</th>\n",
       "      <td>1.000000</td>\n",
       "      <td>1.000000</td>\n",
       "      <td>1.000000</td>\n",
       "      <td>1.000000</td>\n",
       "      <td>1.0000</td>\n",
       "      <td>1.000000</td>\n",
       "      <td>1.000000</td>\n",
       "      <td>1.000000</td>\n",
       "    </tr>\n",
       "    <tr>\n",
       "      <th>Naive_tfub</th>\n",
       "      <td>1.000000</td>\n",
       "      <td>1.000000</td>\n",
       "      <td>1.000000</td>\n",
       "      <td>1.000000</td>\n",
       "      <td>1.0000</td>\n",
       "      <td>1.000000</td>\n",
       "      <td>1.000000</td>\n",
       "      <td>1.000000</td>\n",
       "    </tr>\n",
       "  </tbody>\n",
       "</table>\n",
       "</div>"
      ],
      "text/plain": [
       "                           train_accuracy  train_precision  train_recall  \\\n",
       "Logistic_regression_cuni         1.000000         1.000000      1.000000   \n",
       "Logistic_regression_cbi          1.000000         1.000000      1.000000   \n",
       "Logistic_regression_cub          1.000000         1.000000      1.000000   \n",
       "Logistic_regression_tfuni        0.967213         0.778947      0.800000   \n",
       "Logistic_regression_tfbi         0.967213         0.778947      0.800000   \n",
       "Logistic_regression_tfub         0.967213         0.778947      0.800000   \n",
       "Dtree_cuni                       1.000000         1.000000      1.000000   \n",
       "Dtree_cbi                        1.000000         1.000000      1.000000   \n",
       "Dtree_cub                        1.000000         1.000000      1.000000   \n",
       "Dtree_tfuni                      1.000000         1.000000      1.000000   \n",
       "Dtree_tfbi                       1.000000         1.000000      1.000000   \n",
       "Dtree_tfub                       1.000000         1.000000      1.000000   \n",
       "SVC_cuni                         1.000000         1.000000      1.000000   \n",
       "SVC_cbi                          0.885246         0.708947      0.727778   \n",
       "SVC_cub                          1.000000         1.000000      1.000000   \n",
       "SVC_tfuni                        1.000000         1.000000      1.000000   \n",
       "SVC_tfbi                         1.000000         1.000000      1.000000   \n",
       "SVC_tfub                         1.000000         1.000000      1.000000   \n",
       "Rforest_cuni                     1.000000         1.000000      1.000000   \n",
       "Rforest_cbi                      0.721311         0.500000      0.527206   \n",
       "Rforest_cub                      0.967213         0.778947      0.800000   \n",
       "Rforest_tfuni                    0.983607         0.988889      0.900000   \n",
       "Rforest_tfbi                     1.000000         1.000000      1.000000   \n",
       "Rforest_tfub                     1.000000         1.000000      1.000000   \n",
       "XGB_cuni                         1.000000         1.000000      1.000000   \n",
       "XGB_cbi                          0.901639         0.747826      0.732026   \n",
       "XGB_cub                          1.000000         1.000000      1.000000   \n",
       "XGB_tfuni                        1.000000         1.000000      1.000000   \n",
       "XGB_tfbi                         1.000000         1.000000      1.000000   \n",
       "XGB_tfub                         1.000000         1.000000      1.000000   \n",
       "Naive_cuni                       1.000000         1.000000      1.000000   \n",
       "Naive_cbi                        1.000000         1.000000      1.000000   \n",
       "Naive_cub                        1.000000         1.000000      1.000000   \n",
       "Naive_tfuni                      1.000000         1.000000      1.000000   \n",
       "Naive_tfbi                       1.000000         1.000000      1.000000   \n",
       "Naive_tfub                       1.000000         1.000000      1.000000   \n",
       "\n",
       "                           train_f1score  test_accuracy  test_precision  \\\n",
       "Logistic_regression_cuni        1.000000         0.9375        0.937500   \n",
       "Logistic_regression_cbi         1.000000         0.6250        0.833333   \n",
       "Logistic_regression_cub         1.000000         0.9375        0.937500   \n",
       "Logistic_regression_tfuni       0.788889         0.9375        0.937500   \n",
       "Logistic_regression_tfbi        0.788889         0.7500        0.857143   \n",
       "Logistic_regression_tfub        0.788889         0.8125        0.875000   \n",
       "Dtree_cuni                      1.000000         0.8750        0.900000   \n",
       "Dtree_cbi                       1.000000         0.6875        0.773810   \n",
       "Dtree_cub                       1.000000         0.9375        0.937500   \n",
       "Dtree_tfuni                     1.000000         0.9375        0.800000   \n",
       "Dtree_tfbi                      1.000000         0.8750        0.900000   \n",
       "Dtree_tfub                      1.000000         0.9375        0.800000   \n",
       "SVC_cuni                        1.000000         0.9375        0.937500   \n",
       "SVC_cbi                         0.712522         0.8125        0.858333   \n",
       "SVC_cub                         1.000000         0.9375        0.937500   \n",
       "SVC_tfuni                       1.000000         0.9375        0.937500   \n",
       "SVC_tfbi                        1.000000         0.8125        0.875000   \n",
       "SVC_tfub                        1.000000         0.9375        0.937500   \n",
       "Rforest_cuni                    1.000000         1.0000        1.000000   \n",
       "Rforest_cbi                     0.493289         0.5625        0.575000   \n",
       "Rforest_cub                     0.788889         1.0000        1.000000   \n",
       "Rforest_tfuni                   0.927619         1.0000        1.000000   \n",
       "Rforest_tfbi                    1.000000         0.8125        0.875000   \n",
       "Rforest_tfub                    1.000000         1.0000        1.000000   \n",
       "XGB_cuni                        1.000000         1.0000        1.000000   \n",
       "XGB_cbi                         0.732500         0.8125        0.875000   \n",
       "XGB_cub                         1.000000         0.9375        0.937500   \n",
       "XGB_tfuni                       1.000000         1.0000        1.000000   \n",
       "XGB_tfbi                        1.000000         0.9375        0.937500   \n",
       "XGB_tfub                        1.000000         1.0000        1.000000   \n",
       "Naive_cuni                      1.000000         0.9375        0.937500   \n",
       "Naive_cbi                       1.000000         0.6250        0.733333   \n",
       "Naive_cub                       1.000000         1.0000        1.000000   \n",
       "Naive_tfuni                     1.000000         1.0000        1.000000   \n",
       "Naive_tfbi                      1.000000         1.0000        1.000000   \n",
       "Naive_tfub                      1.000000         1.0000        1.000000   \n",
       "\n",
       "                           test_recall  test_f1score  \n",
       "Logistic_regression_cuni      0.950000      0.936508  \n",
       "Logistic_regression_cbi       0.700000      0.645833  \n",
       "Logistic_regression_cub       0.950000      0.936508  \n",
       "Logistic_regression_tfuni     0.950000      0.936508  \n",
       "Logistic_regression_tfbi      0.800000      0.733333  \n",
       "Logistic_regression_tfub      0.850000      0.809524  \n",
       "Dtree_cuni                    0.900000      0.881944  \n",
       "Dtree_cbi                     0.750000      0.712500  \n",
       "Dtree_cub                     0.950000      0.936508  \n",
       "Dtree_tfuni                   0.733333      0.760000  \n",
       "Dtree_tfbi                    0.866667      0.859722  \n",
       "Dtree_tfub                    0.733333      0.760000  \n",
       "SVC_cuni                      0.950000      0.936508  \n",
       "SVC_cbi                       0.850000      0.807630  \n",
       "SVC_cub                       0.950000      0.936508  \n",
       "SVC_tfuni                     0.950000      0.936508  \n",
       "SVC_tfbi                      0.850000      0.809524  \n",
       "SVC_tfub                      0.950000      0.936508  \n",
       "Rforest_cuni                  1.000000      1.000000  \n",
       "Rforest_cbi                   0.650000      0.552885  \n",
       "Rforest_cub                   1.000000      1.000000  \n",
       "Rforest_tfuni                 1.000000      1.000000  \n",
       "Rforest_tfbi                  0.816667      0.804167  \n",
       "Rforest_tfub                  1.000000      1.000000  \n",
       "XGB_cuni                      1.000000      1.000000  \n",
       "XGB_cbi                       0.850000      0.826389  \n",
       "XGB_cub                       0.950000      0.936508  \n",
       "XGB_tfuni                     1.000000      1.000000  \n",
       "XGB_tfbi                      0.950000      0.936508  \n",
       "XGB_tfub                      1.000000      1.000000  \n",
       "Naive_cuni                    0.950000      0.936508  \n",
       "Naive_cbi                     0.533333      0.597619  \n",
       "Naive_cub                     1.000000      1.000000  \n",
       "Naive_tfuni                   1.000000      1.000000  \n",
       "Naive_tfbi                    1.000000      1.000000  \n",
       "Naive_tfub                    1.000000      1.000000  "
      ]
     },
     "execution_count": 89,
     "metadata": {},
     "output_type": "execute_result"
    }
   ],
   "source": [
    "result_final"
   ]
  },
  {
   "cell_type": "code",
   "execution_count": 90,
   "id": "66532d19",
   "metadata": {},
   "outputs": [
    {
     "data": {
      "text/html": [
       "<div>\n",
       "<style scoped>\n",
       "    .dataframe tbody tr th:only-of-type {\n",
       "        vertical-align: middle;\n",
       "    }\n",
       "\n",
       "    .dataframe tbody tr th {\n",
       "        vertical-align: top;\n",
       "    }\n",
       "\n",
       "    .dataframe thead th {\n",
       "        text-align: right;\n",
       "    }\n",
       "</style>\n",
       "<table border=\"1\" class=\"dataframe\">\n",
       "  <thead>\n",
       "    <tr style=\"text-align: right;\">\n",
       "      <th></th>\n",
       "      <th>train_accuracy</th>\n",
       "      <th>train_precision</th>\n",
       "      <th>train_recall</th>\n",
       "      <th>train_f1score</th>\n",
       "      <th>test_accuracy</th>\n",
       "      <th>test_precision</th>\n",
       "      <th>test_recall</th>\n",
       "      <th>test_f1score</th>\n",
       "    </tr>\n",
       "  </thead>\n",
       "  <tbody>\n",
       "    <tr>\n",
       "      <th>Rforest_cuni</th>\n",
       "      <td>1.0</td>\n",
       "      <td>1.0</td>\n",
       "      <td>1.0</td>\n",
       "      <td>1.0</td>\n",
       "      <td>1.0</td>\n",
       "      <td>1.0</td>\n",
       "      <td>1.0</td>\n",
       "      <td>1.0</td>\n",
       "    </tr>\n",
       "    <tr>\n",
       "      <th>Rforest_tfub</th>\n",
       "      <td>1.0</td>\n",
       "      <td>1.0</td>\n",
       "      <td>1.0</td>\n",
       "      <td>1.0</td>\n",
       "      <td>1.0</td>\n",
       "      <td>1.0</td>\n",
       "      <td>1.0</td>\n",
       "      <td>1.0</td>\n",
       "    </tr>\n",
       "    <tr>\n",
       "      <th>XGB_cuni</th>\n",
       "      <td>1.0</td>\n",
       "      <td>1.0</td>\n",
       "      <td>1.0</td>\n",
       "      <td>1.0</td>\n",
       "      <td>1.0</td>\n",
       "      <td>1.0</td>\n",
       "      <td>1.0</td>\n",
       "      <td>1.0</td>\n",
       "    </tr>\n",
       "    <tr>\n",
       "      <th>XGB_tfuni</th>\n",
       "      <td>1.0</td>\n",
       "      <td>1.0</td>\n",
       "      <td>1.0</td>\n",
       "      <td>1.0</td>\n",
       "      <td>1.0</td>\n",
       "      <td>1.0</td>\n",
       "      <td>1.0</td>\n",
       "      <td>1.0</td>\n",
       "    </tr>\n",
       "    <tr>\n",
       "      <th>XGB_tfub</th>\n",
       "      <td>1.0</td>\n",
       "      <td>1.0</td>\n",
       "      <td>1.0</td>\n",
       "      <td>1.0</td>\n",
       "      <td>1.0</td>\n",
       "      <td>1.0</td>\n",
       "      <td>1.0</td>\n",
       "      <td>1.0</td>\n",
       "    </tr>\n",
       "    <tr>\n",
       "      <th>Naive_cub</th>\n",
       "      <td>1.0</td>\n",
       "      <td>1.0</td>\n",
       "      <td>1.0</td>\n",
       "      <td>1.0</td>\n",
       "      <td>1.0</td>\n",
       "      <td>1.0</td>\n",
       "      <td>1.0</td>\n",
       "      <td>1.0</td>\n",
       "    </tr>\n",
       "    <tr>\n",
       "      <th>Naive_tfuni</th>\n",
       "      <td>1.0</td>\n",
       "      <td>1.0</td>\n",
       "      <td>1.0</td>\n",
       "      <td>1.0</td>\n",
       "      <td>1.0</td>\n",
       "      <td>1.0</td>\n",
       "      <td>1.0</td>\n",
       "      <td>1.0</td>\n",
       "    </tr>\n",
       "    <tr>\n",
       "      <th>Naive_tfbi</th>\n",
       "      <td>1.0</td>\n",
       "      <td>1.0</td>\n",
       "      <td>1.0</td>\n",
       "      <td>1.0</td>\n",
       "      <td>1.0</td>\n",
       "      <td>1.0</td>\n",
       "      <td>1.0</td>\n",
       "      <td>1.0</td>\n",
       "    </tr>\n",
       "    <tr>\n",
       "      <th>Naive_tfub</th>\n",
       "      <td>1.0</td>\n",
       "      <td>1.0</td>\n",
       "      <td>1.0</td>\n",
       "      <td>1.0</td>\n",
       "      <td>1.0</td>\n",
       "      <td>1.0</td>\n",
       "      <td>1.0</td>\n",
       "      <td>1.0</td>\n",
       "    </tr>\n",
       "  </tbody>\n",
       "</table>\n",
       "</div>"
      ],
      "text/plain": [
       "              train_accuracy  train_precision  train_recall  train_f1score  \\\n",
       "Rforest_cuni             1.0              1.0           1.0            1.0   \n",
       "Rforest_tfub             1.0              1.0           1.0            1.0   \n",
       "XGB_cuni                 1.0              1.0           1.0            1.0   \n",
       "XGB_tfuni                1.0              1.0           1.0            1.0   \n",
       "XGB_tfub                 1.0              1.0           1.0            1.0   \n",
       "Naive_cub                1.0              1.0           1.0            1.0   \n",
       "Naive_tfuni              1.0              1.0           1.0            1.0   \n",
       "Naive_tfbi               1.0              1.0           1.0            1.0   \n",
       "Naive_tfub               1.0              1.0           1.0            1.0   \n",
       "\n",
       "              test_accuracy  test_precision  test_recall  test_f1score  \n",
       "Rforest_cuni            1.0             1.0          1.0           1.0  \n",
       "Rforest_tfub            1.0             1.0          1.0           1.0  \n",
       "XGB_cuni                1.0             1.0          1.0           1.0  \n",
       "XGB_tfuni               1.0             1.0          1.0           1.0  \n",
       "XGB_tfub                1.0             1.0          1.0           1.0  \n",
       "Naive_cub               1.0             1.0          1.0           1.0  \n",
       "Naive_tfuni             1.0             1.0          1.0           1.0  \n",
       "Naive_tfbi              1.0             1.0          1.0           1.0  \n",
       "Naive_tfub              1.0             1.0          1.0           1.0  "
      ]
     },
     "execution_count": 90,
     "metadata": {},
     "output_type": "execute_result"
    }
   ],
   "source": [
    "result_final[(result_final==1.0).all(axis=1)]"
   ]
  },
  {
   "cell_type": "markdown",
   "id": "615abe81",
   "metadata": {},
   "source": [
    "### Stacking "
   ]
  },
  {
   "cell_type": "markdown",
   "id": "06baa6bb",
   "metadata": {},
   "source": [
    "#### TFuni"
   ]
  },
  {
   "cell_type": "code",
   "execution_count": 91,
   "id": "69f84567",
   "metadata": {},
   "outputs": [],
   "source": [
    "base_models=[('Rforest_tfuni',RandomForestClassifier(criterion='entropy',max_depth=4,max_features=0.25,min_samples_split=3,n_estimators=50)),\n",
    "            ('XGB_tfuni',XGBClassifier(colsample_bytree=0.3,gamma= 0.0,learning_rate=0.05,max_depth= 3,min_child_weight= 1)),\n",
    "            ('Naive_tfuni',MultinomialNB(alpha=0.1))]"
   ]
  },
  {
   "cell_type": "code",
   "execution_count": 92,
   "id": "746e0bdc",
   "metadata": {},
   "outputs": [],
   "source": [
    "stacking_model=StackingClassifier(estimators=base_models,final_estimator=LogisticRegression())"
   ]
  },
  {
   "cell_type": "code",
   "execution_count": 93,
   "id": "d43b4e30",
   "metadata": {},
   "outputs": [
    {
     "data": {
      "image/png": "[encoded data removed]",
      "text/plain": [
       "<Figure size 500x300 with 2 Axes>"
      ]
     },
     "metadata": {},
     "output_type": "display_data"
    },
    {
     "name": "stdout",
     "output_type": "stream",
     "text": [
      "------------------------------ > Train Classification Report < ------------------------------\n",
      "              precision    recall  f1-score   support\n",
      "\n",
      "           0       0.00      0.00      0.00         2\n",
      "           1       1.00      1.00      1.00        17\n",
      "           2       0.89      1.00      0.94        17\n",
      "           3       1.00      1.00      1.00         9\n",
      "           4       1.00      1.00      1.00        16\n",
      "\n",
      "    accuracy                           0.97        61\n",
      "   macro avg       0.78      0.80      0.79        61\n",
      "weighted avg       0.94      0.97      0.95        61\n",
      "\n",
      "\n",
      "------------------------------ > Test Classification Report < ------------------------------\n",
      "              precision    recall  f1-score   support\n",
      "\n",
      "           1       1.00      1.00      1.00         3\n",
      "           2       1.00      1.00      1.00         3\n",
      "           3       1.00      1.00      1.00         5\n",
      "           4       1.00      1.00      1.00         5\n",
      "\n",
      "    accuracy                           1.00        16\n",
      "   macro avg       1.00      1.00      1.00        16\n",
      "weighted avg       1.00      1.00      1.00        16\n",
      "\n"
     ]
    }
   ],
   "source": [
    "model_building(StackingClassifier(estimators=base_models,final_estimator=LogisticRegression()),X_tfuni,'Stacking_tfuni')"
   ]
  },
  {
   "cell_type": "markdown",
   "id": "dce041a9",
   "metadata": {},
   "source": [
    "#### TFub"
   ]
  },
  {
   "cell_type": "code",
   "execution_count": 94,
   "id": "14885c0f",
   "metadata": {},
   "outputs": [],
   "source": [
    "base_models2=[('Random_tfub',RandomForestClassifier(criterion='entropy',max_depth=4,max_features=0.5,min_samples_split=3,n_estimators=50)),\n",
    "             ('XGB_tfub',XGBClassifier(colsample_bytree=0.3,gamma= 0.0,learning_rate=0.05,max_depth= 3,min_child_weight= 1)),('Naive_tfub',MultinomialNB(alpha=0.1))]"
   ]
  },
  {
   "cell_type": "code",
   "execution_count": 95,
   "id": "17c4a623",
   "metadata": {},
   "outputs": [
    {
     "data": {
      "image/png": "[encoded data removed]",
      "text/plain": [
       "<Figure size 500x300 with 2 Axes>"
      ]
     },
     "metadata": {},
     "output_type": "display_data"
    },
    {
     "name": "stdout",
     "output_type": "stream",
     "text": [
      "------------------------------ > Train Classification Report < ------------------------------\n",
      "              precision    recall  f1-score   support\n",
      "\n",
      "           0       0.00      0.00      0.00         2\n",
      "           1       1.00      1.00      1.00        17\n",
      "           2       0.89      1.00      0.94        17\n",
      "           3       1.00      1.00      1.00         9\n",
      "           4       1.00      1.00      1.00        16\n",
      "\n",
      "    accuracy                           0.97        61\n",
      "   macro avg       0.78      0.80      0.79        61\n",
      "weighted avg       0.94      0.97      0.95        61\n",
      "\n",
      "\n",
      "------------------------------ > Test Classification Report < ------------------------------\n",
      "              precision    recall  f1-score   support\n",
      "\n",
      "           1       1.00      1.00      1.00         3\n",
      "           2       1.00      1.00      1.00         3\n",
      "           3       1.00      1.00      1.00         5\n",
      "           4       1.00      1.00      1.00         5\n",
      "\n",
      "    accuracy                           1.00        16\n",
      "   macro avg       1.00      1.00      1.00        16\n",
      "weighted avg       1.00      1.00      1.00        16\n",
      "\n"
     ]
    }
   ],
   "source": [
    "model_building(StackingClassifier(estimators=base_models2,final_estimator=LogisticRegression()),X_tfub,'Stacking_tfub')"
   ]
  },
  {
   "cell_type": "markdown",
   "id": "ff0e74a0",
   "metadata": {},
   "source": [
    "### Voting"
   ]
  },
  {
   "cell_type": "markdown",
   "id": "e81d19e0",
   "metadata": {},
   "source": [
    "#### TFuni"
   ]
  },
  {
   "cell_type": "code",
   "execution_count": 96,
   "id": "798e95e7",
   "metadata": {},
   "outputs": [
    {
     "data": {
      "image/png": "[encoded data removed]",
      "text/plain": [
       "<Figure size 500x300 with 2 Axes>"
      ]
     },
     "metadata": {},
     "output_type": "display_data"
    },
    {
     "name": "stdout",
     "output_type": "stream",
     "text": [
      "------------------------------ > Train Classification Report < ------------------------------\n",
      "              precision    recall  f1-score   support\n",
      "\n",
      "           0       1.00      1.00      1.00         2\n",
      "           1       1.00      1.00      1.00        17\n",
      "           2       1.00      1.00      1.00        17\n",
      "           3       1.00      1.00      1.00         9\n",
      "           4       1.00      1.00      1.00        16\n",
      "\n",
      "    accuracy                           1.00        61\n",
      "   macro avg       1.00      1.00      1.00        61\n",
      "weighted avg       1.00      1.00      1.00        61\n",
      "\n",
      "\n",
      "------------------------------ > Test Classification Report < ------------------------------\n",
      "              precision    recall  f1-score   support\n",
      "\n",
      "           1       1.00      1.00      1.00         3\n",
      "           2       1.00      1.00      1.00         3\n",
      "           3       1.00      1.00      1.00         5\n",
      "           4       1.00      1.00      1.00         5\n",
      "\n",
      "    accuracy                           1.00        16\n",
      "   macro avg       1.00      1.00      1.00        16\n",
      "weighted avg       1.00      1.00      1.00        16\n",
      "\n"
     ]
    }
   ],
   "source": [
    "model_building(VotingClassifier(estimators=base_models,voting='hard'),X_tfuni,'Voting_tfuni')"
   ]
  },
  {
   "cell_type": "markdown",
   "id": "3ee8af24",
   "metadata": {},
   "source": [
    "#### Tfub"
   ]
  },
  {
   "cell_type": "code",
   "execution_count": 97,
   "id": "7ddcab14",
   "metadata": {},
   "outputs": [
    {
     "data": {
      "image/png": "[encoded data removed]",
      "text/plain": [
       "<Figure size 500x300 with 2 Axes>"
      ]
     },
     "metadata": {},
     "output_type": "display_data"
    },
    {
     "name": "stdout",
     "output_type": "stream",
     "text": [
      "------------------------------ > Train Classification Report < ------------------------------\n",
      "              precision    recall  f1-score   support\n",
      "\n",
      "           0       1.00      1.00      1.00         2\n",
      "           1       1.00      1.00      1.00        17\n",
      "           2       1.00      1.00      1.00        17\n",
      "           3       1.00      1.00      1.00         9\n",
      "           4       1.00      1.00      1.00        16\n",
      "\n",
      "    accuracy                           1.00        61\n",
      "   macro avg       1.00      1.00      1.00        61\n",
      "weighted avg       1.00      1.00      1.00        61\n",
      "\n",
      "\n",
      "------------------------------ > Test Classification Report < ------------------------------\n",
      "              precision    recall  f1-score   support\n",
      "\n",
      "           1       1.00      1.00      1.00         3\n",
      "           2       1.00      1.00      1.00         3\n",
      "           3       1.00      1.00      1.00         5\n",
      "           4       1.00      1.00      1.00         5\n",
      "\n",
      "    accuracy                           1.00        16\n",
      "   macro avg       1.00      1.00      1.00        16\n",
      "weighted avg       1.00      1.00      1.00        16\n",
      "\n"
     ]
    }
   ],
   "source": [
    "model_building(VotingClassifier(estimators=base_models2,voting='hard'),X_tfub,'Voting_tfub')"
   ]
  },
  {
   "cell_type": "code",
   "execution_count": 98,
   "id": "77e82be3",
   "metadata": {},
   "outputs": [
    {
     "data": {
      "text/html": [
       "<div>\n",
       "<style scoped>\n",
       "    .dataframe tbody tr th:only-of-type {\n",
       "        vertical-align: middle;\n",
       "    }\n",
       "\n",
       "    .dataframe tbody tr th {\n",
       "        vertical-align: top;\n",
       "    }\n",
       "\n",
       "    .dataframe thead th {\n",
       "        text-align: right;\n",
       "    }\n",
       "</style>\n",
       "<table border=\"1\" class=\"dataframe\">\n",
       "  <thead>\n",
       "    <tr style=\"text-align: right;\">\n",
       "      <th></th>\n",
       "      <th>train_accuracy</th>\n",
       "      <th>train_precision</th>\n",
       "      <th>train_recall</th>\n",
       "      <th>train_f1score</th>\n",
       "      <th>test_accuracy</th>\n",
       "      <th>test_precision</th>\n",
       "      <th>test_recall</th>\n",
       "      <th>test_f1score</th>\n",
       "    </tr>\n",
       "  </thead>\n",
       "  <tbody>\n",
       "    <tr>\n",
       "      <th>Logistic_regression_cuni</th>\n",
       "      <td>1.000000</td>\n",
       "      <td>1.000000</td>\n",
       "      <td>1.000000</td>\n",
       "      <td>1.000000</td>\n",
       "      <td>0.9375</td>\n",
       "      <td>0.937500</td>\n",
       "      <td>0.950000</td>\n",
       "      <td>0.936508</td>\n",
       "    </tr>\n",
       "    <tr>\n",
       "      <th>Logistic_regression_cbi</th>\n",
       "      <td>1.000000</td>\n",
       "      <td>1.000000</td>\n",
       "      <td>1.000000</td>\n",
       "      <td>1.000000</td>\n",
       "      <td>0.6250</td>\n",
       "      <td>0.833333</td>\n",
       "      <td>0.700000</td>\n",
       "      <td>0.645833</td>\n",
       "    </tr>\n",
       "    <tr>\n",
       "      <th>Logistic_regression_cub</th>\n",
       "      <td>1.000000</td>\n",
       "      <td>1.000000</td>\n",
       "      <td>1.000000</td>\n",
       "      <td>1.000000</td>\n",
       "      <td>0.9375</td>\n",
       "      <td>0.937500</td>\n",
       "      <td>0.950000</td>\n",
       "      <td>0.936508</td>\n",
       "    </tr>\n",
       "    <tr>\n",
       "      <th>Logistic_regression_tfuni</th>\n",
       "      <td>0.967213</td>\n",
       "      <td>0.778947</td>\n",
       "      <td>0.800000</td>\n",
       "      <td>0.788889</td>\n",
       "      <td>0.9375</td>\n",
       "      <td>0.937500</td>\n",
       "      <td>0.950000</td>\n",
       "      <td>0.936508</td>\n",
       "    </tr>\n",
       "    <tr>\n",
       "      <th>Logistic_regression_tfbi</th>\n",
       "      <td>0.967213</td>\n",
       "      <td>0.778947</td>\n",
       "      <td>0.800000</td>\n",
       "      <td>0.788889</td>\n",
       "      <td>0.7500</td>\n",
       "      <td>0.857143</td>\n",
       "      <td>0.800000</td>\n",
       "      <td>0.733333</td>\n",
       "    </tr>\n",
       "    <tr>\n",
       "      <th>Logistic_regression_tfub</th>\n",
       "      <td>0.967213</td>\n",
       "      <td>0.778947</td>\n",
       "      <td>0.800000</td>\n",
       "      <td>0.788889</td>\n",
       "      <td>0.8125</td>\n",
       "      <td>0.875000</td>\n",
       "      <td>0.850000</td>\n",
       "      <td>0.809524</td>\n",
       "    </tr>\n",
       "    <tr>\n",
       "      <th>Dtree_cuni</th>\n",
       "      <td>1.000000</td>\n",
       "      <td>1.000000</td>\n",
       "      <td>1.000000</td>\n",
       "      <td>1.000000</td>\n",
       "      <td>0.8750</td>\n",
       "      <td>0.900000</td>\n",
       "      <td>0.900000</td>\n",
       "      <td>0.881944</td>\n",
       "    </tr>\n",
       "    <tr>\n",
       "      <th>Dtree_cbi</th>\n",
       "      <td>1.000000</td>\n",
       "      <td>1.000000</td>\n",
       "      <td>1.000000</td>\n",
       "      <td>1.000000</td>\n",
       "      <td>0.6875</td>\n",
       "      <td>0.773810</td>\n",
       "      <td>0.750000</td>\n",
       "      <td>0.712500</td>\n",
       "    </tr>\n",
       "    <tr>\n",
       "      <th>Dtree_cub</th>\n",
       "      <td>1.000000</td>\n",
       "      <td>1.000000</td>\n",
       "      <td>1.000000</td>\n",
       "      <td>1.000000</td>\n",
       "      <td>0.9375</td>\n",
       "      <td>0.937500</td>\n",
       "      <td>0.950000</td>\n",
       "      <td>0.936508</td>\n",
       "    </tr>\n",
       "    <tr>\n",
       "      <th>Dtree_tfuni</th>\n",
       "      <td>1.000000</td>\n",
       "      <td>1.000000</td>\n",
       "      <td>1.000000</td>\n",
       "      <td>1.000000</td>\n",
       "      <td>0.9375</td>\n",
       "      <td>0.800000</td>\n",
       "      <td>0.733333</td>\n",
       "      <td>0.760000</td>\n",
       "    </tr>\n",
       "    <tr>\n",
       "      <th>Dtree_tfbi</th>\n",
       "      <td>1.000000</td>\n",
       "      <td>1.000000</td>\n",
       "      <td>1.000000</td>\n",
       "      <td>1.000000</td>\n",
       "      <td>0.8750</td>\n",
       "      <td>0.900000</td>\n",
       "      <td>0.866667</td>\n",
       "      <td>0.859722</td>\n",
       "    </tr>\n",
       "    <tr>\n",
       "      <th>Dtree_tfub</th>\n",
       "      <td>1.000000</td>\n",
       "      <td>1.000000</td>\n",
       "      <td>1.000000</td>\n",
       "      <td>1.000000</td>\n",
       "      <td>0.9375</td>\n",
       "      <td>0.800000</td>\n",
       "      <td>0.733333</td>\n",
       "      <td>0.760000</td>\n",
       "    </tr>\n",
       "    <tr>\n",
       "      <th>SVC_cuni</th>\n",
       "      <td>1.000000</td>\n",
       "      <td>1.000000</td>\n",
       "      <td>1.000000</td>\n",
       "      <td>1.000000</td>\n",
       "      <td>0.9375</td>\n",
       "      <td>0.937500</td>\n",
       "      <td>0.950000</td>\n",
       "      <td>0.936508</td>\n",
       "    </tr>\n",
       "    <tr>\n",
       "      <th>SVC_cbi</th>\n",
       "      <td>0.885246</td>\n",
       "      <td>0.708947</td>\n",
       "      <td>0.727778</td>\n",
       "      <td>0.712522</td>\n",
       "      <td>0.8125</td>\n",
       "      <td>0.858333</td>\n",
       "      <td>0.850000</td>\n",
       "      <td>0.807630</td>\n",
       "    </tr>\n",
       "    <tr>\n",
       "      <th>SVC_cub</th>\n",
       "      <td>1.000000</td>\n",
       "      <td>1.000000</td>\n",
       "      <td>1.000000</td>\n",
       "      <td>1.000000</td>\n",
       "      <td>0.9375</td>\n",
       "      <td>0.937500</td>\n",
       "      <td>0.950000</td>\n",
       "      <td>0.936508</td>\n",
       "    </tr>\n",
       "    <tr>\n",
       "      <th>SVC_tfuni</th>\n",
       "      <td>1.000000</td>\n",
       "      <td>1.000000</td>\n",
       "      <td>1.000000</td>\n",
       "      <td>1.000000</td>\n",
       "      <td>0.9375</td>\n",
       "      <td>0.937500</td>\n",
       "      <td>0.950000</td>\n",
       "      <td>0.936508</td>\n",
       "    </tr>\n",
       "    <tr>\n",
       "      <th>SVC_tfbi</th>\n",
       "      <td>1.000000</td>\n",
       "      <td>1.000000</td>\n",
       "      <td>1.000000</td>\n",
       "      <td>1.000000</td>\n",
       "      <td>0.8125</td>\n",
       "      <td>0.875000</td>\n",
       "      <td>0.850000</td>\n",
       "      <td>0.809524</td>\n",
       "    </tr>\n",
       "    <tr>\n",
       "      <th>SVC_tfub</th>\n",
       "      <td>1.000000</td>\n",
       "      <td>1.000000</td>\n",
       "      <td>1.000000</td>\n",
       "      <td>1.000000</td>\n",
       "      <td>0.9375</td>\n",
       "      <td>0.937500</td>\n",
       "      <td>0.950000</td>\n",
       "      <td>0.936508</td>\n",
       "    </tr>\n",
       "    <tr>\n",
       "      <th>Rforest_cuni</th>\n",
       "      <td>1.000000</td>\n",
       "      <td>1.000000</td>\n",
       "      <td>1.000000</td>\n",
       "      <td>1.000000</td>\n",
       "      <td>1.0000</td>\n",
       "      <td>1.000000</td>\n",
       "      <td>1.000000</td>\n",
       "      <td>1.000000</td>\n",
       "    </tr>\n",
       "    <tr>\n",
       "      <th>Rforest_cbi</th>\n",
       "      <td>0.721311</td>\n",
       "      <td>0.500000</td>\n",
       "      <td>0.527206</td>\n",
       "      <td>0.493289</td>\n",
       "      <td>0.5625</td>\n",
       "      <td>0.575000</td>\n",
       "      <td>0.650000</td>\n",
       "      <td>0.552885</td>\n",
       "    </tr>\n",
       "    <tr>\n",
       "      <th>Rforest_cub</th>\n",
       "      <td>0.967213</td>\n",
       "      <td>0.778947</td>\n",
       "      <td>0.800000</td>\n",
       "      <td>0.788889</td>\n",
       "      <td>1.0000</td>\n",
       "      <td>1.000000</td>\n",
       "      <td>1.000000</td>\n",
       "      <td>1.000000</td>\n",
       "    </tr>\n",
       "    <tr>\n",
       "      <th>Rforest_tfuni</th>\n",
       "      <td>0.983607</td>\n",
       "      <td>0.988889</td>\n",
       "      <td>0.900000</td>\n",
       "      <td>0.927619</td>\n",
       "      <td>1.0000</td>\n",
       "      <td>1.000000</td>\n",
       "      <td>1.000000</td>\n",
       "      <td>1.000000</td>\n",
       "    </tr>\n",
       "    <tr>\n",
       "      <th>Rforest_tfbi</th>\n",
       "      <td>1.000000</td>\n",
       "      <td>1.000000</td>\n",
       "      <td>1.000000</td>\n",
       "      <td>1.000000</td>\n",
       "      <td>0.8125</td>\n",
       "      <td>0.875000</td>\n",
       "      <td>0.816667</td>\n",
       "      <td>0.804167</td>\n",
       "    </tr>\n",
       "    <tr>\n",
       "      <th>Rforest_tfub</th>\n",
       "      <td>1.000000</td>\n",
       "      <td>1.000000</td>\n",
       "      <td>1.000000</td>\n",
       "      <td>1.000000</td>\n",
       "      <td>1.0000</td>\n",
       "      <td>1.000000</td>\n",
       "      <td>1.000000</td>\n",
       "      <td>1.000000</td>\n",
       "    </tr>\n",
       "    <tr>\n",
       "      <th>XGB_cuni</th>\n",
       "      <td>1.000000</td>\n",
       "      <td>1.000000</td>\n",
       "      <td>1.000000</td>\n",
       "      <td>1.000000</td>\n",
       "      <td>1.0000</td>\n",
       "      <td>1.000000</td>\n",
       "      <td>1.000000</td>\n",
       "      <td>1.000000</td>\n",
       "    </tr>\n",
       "    <tr>\n",
       "      <th>XGB_cbi</th>\n",
       "      <td>0.901639</td>\n",
       "      <td>0.747826</td>\n",
       "      <td>0.732026</td>\n",
       "      <td>0.732500</td>\n",
       "      <td>0.8125</td>\n",
       "      <td>0.875000</td>\n",
       "      <td>0.850000</td>\n",
       "      <td>0.826389</td>\n",
       "    </tr>\n",
       "    <tr>\n",
       "      <th>XGB_cub</th>\n",
       "      <td>1.000000</td>\n",
       "      <td>1.000000</td>\n",
       "      <td>1.000000</td>\n",
       "      <td>1.000000</td>\n",
       "      <td>0.9375</td>\n",
       "      <td>0.937500</td>\n",
       "      <td>0.950000</td>\n",
       "      <td>0.936508</td>\n",
       "    </tr>\n",
       "    <tr>\n",
       "      <th>XGB_tfuni</th>\n",
       "      <td>1.000000</td>\n",
       "      <td>1.000000</td>\n",
       "      <td>1.000000</td>\n",
       "      <td>1.000000</td>\n",
       "      <td>1.0000</td>\n",
       "      <td>1.000000</td>\n",
       "      <td>1.000000</td>\n",
       "      <td>1.000000</td>\n",
       "    </tr>\n",
       "    <tr>\n",
       "      <th>XGB_tfbi</th>\n",
       "      <td>1.000000</td>\n",
       "      <td>1.000000</td>\n",
       "      <td>1.000000</td>\n",
       "      <td>1.000000</td>\n",
       "      <td>0.9375</td>\n",
       "      <td>0.937500</td>\n",
       "      <td>0.950000</td>\n",
       "      <td>0.936508</td>\n",
       "    </tr>\n",
       "    <tr>\n",
       "      <th>XGB_tfub</th>\n",
       "      <td>1.000000</td>\n",
       "      <td>1.000000</td>\n",
       "      <td>1.000000</td>\n",
       "      <td>1.000000</td>\n",
       "      <td>1.0000</td>\n",
       "      <td>1.000000</td>\n",
       "      <td>1.000000</td>\n",
       "      <td>1.000000</td>\n",
       "    </tr>\n",
       "    <tr>\n",
       "      <th>Naive_cuni</th>\n",
       "      <td>1.000000</td>\n",
       "      <td>1.000000</td>\n",
       "      <td>1.000000</td>\n",
       "      <td>1.000000</td>\n",
       "      <td>0.9375</td>\n",
       "      <td>0.937500</td>\n",
       "      <td>0.950000</td>\n",
       "      <td>0.936508</td>\n",
       "    </tr>\n",
       "    <tr>\n",
       "      <th>Naive_cbi</th>\n",
       "      <td>1.000000</td>\n",
       "      <td>1.000000</td>\n",
       "      <td>1.000000</td>\n",
       "      <td>1.000000</td>\n",
       "      <td>0.6250</td>\n",
       "      <td>0.733333</td>\n",
       "      <td>0.533333</td>\n",
       "      <td>0.597619</td>\n",
       "    </tr>\n",
       "    <tr>\n",
       "      <th>Naive_cub</th>\n",
       "      <td>1.000000</td>\n",
       "      <td>1.000000</td>\n",
       "      <td>1.000000</td>\n",
       "      <td>1.000000</td>\n",
       "      <td>1.0000</td>\n",
       "      <td>1.000000</td>\n",
       "      <td>1.000000</td>\n",
       "      <td>1.000000</td>\n",
       "    </tr>\n",
       "    <tr>\n",
       "      <th>Naive_tfuni</th>\n",
       "      <td>1.000000</td>\n",
       "      <td>1.000000</td>\n",
       "      <td>1.000000</td>\n",
       "      <td>1.000000</td>\n",
       "      <td>1.0000</td>\n",
       "      <td>1.000000</td>\n",
       "      <td>1.000000</td>\n",
       "      <td>1.000000</td>\n",
       "    </tr>\n",
       "    <tr>\n",
       "      <th>Naive_tfbi</th>\n",
       "      <td>1.000000</td>\n",
       "      <td>1.000000</td>\n",
       "      <td>1.000000</td>\n",
       "      <td>1.000000</td>\n",
       "      <td>1.0000</td>\n",
       "      <td>1.000000</td>\n",
       "      <td>1.000000</td>\n",
       "      <td>1.000000</td>\n",
       "    </tr>\n",
       "    <tr>\n",
       "      <th>Naive_tfub</th>\n",
       "      <td>1.000000</td>\n",
       "      <td>1.000000</td>\n",
       "      <td>1.000000</td>\n",
       "      <td>1.000000</td>\n",
       "      <td>1.0000</td>\n",
       "      <td>1.000000</td>\n",
       "      <td>1.000000</td>\n",
       "      <td>1.000000</td>\n",
       "    </tr>\n",
       "    <tr>\n",
       "      <th>Stacking_tfuni</th>\n",
       "      <td>0.967213</td>\n",
       "      <td>0.778947</td>\n",
       "      <td>0.800000</td>\n",
       "      <td>0.788889</td>\n",
       "      <td>1.0000</td>\n",
       "      <td>1.000000</td>\n",
       "      <td>1.000000</td>\n",
       "      <td>1.000000</td>\n",
       "    </tr>\n",
       "    <tr>\n",
       "      <th>Stacking_tfub</th>\n",
       "      <td>0.967213</td>\n",
       "      <td>0.778947</td>\n",
       "      <td>0.800000</td>\n",
       "      <td>0.788889</td>\n",
       "      <td>1.0000</td>\n",
       "      <td>1.000000</td>\n",
       "      <td>1.000000</td>\n",
       "      <td>1.000000</td>\n",
       "    </tr>\n",
       "    <tr>\n",
       "      <th>Voting_tfuni</th>\n",
       "      <td>1.000000</td>\n",
       "      <td>1.000000</td>\n",
       "      <td>1.000000</td>\n",
       "      <td>1.000000</td>\n",
       "      <td>1.0000</td>\n",
       "      <td>1.000000</td>\n",
       "      <td>1.000000</td>\n",
       "      <td>1.000000</td>\n",
       "    </tr>\n",
       "    <tr>\n",
       "      <th>Voting_tfub</th>\n",
       "      <td>1.000000</td>\n",
       "      <td>1.000000</td>\n",
       "      <td>1.000000</td>\n",
       "      <td>1.000000</td>\n",
       "      <td>1.0000</td>\n",
       "      <td>1.000000</td>\n",
       "      <td>1.000000</td>\n",
       "      <td>1.000000</td>\n",
       "    </tr>\n",
       "  </tbody>\n",
       "</table>\n",
       "</div>"
      ],
      "text/plain": [
       "                           train_accuracy  train_precision  train_recall  \\\n",
       "Logistic_regression_cuni         1.000000         1.000000      1.000000   \n",
       "Logistic_regression_cbi          1.000000         1.000000      1.000000   \n",
       "Logistic_regression_cub          1.000000         1.000000      1.000000   \n",
       "Logistic_regression_tfuni        0.967213         0.778947      0.800000   \n",
       "Logistic_regression_tfbi         0.967213         0.778947      0.800000   \n",
       "Logistic_regression_tfub         0.967213         0.778947      0.800000   \n",
       "Dtree_cuni                       1.000000         1.000000      1.000000   \n",
       "Dtree_cbi                        1.000000         1.000000      1.000000   \n",
       "Dtree_cub                        1.000000         1.000000      1.000000   \n",
       "Dtree_tfuni                      1.000000         1.000000      1.000000   \n",
       "Dtree_tfbi                       1.000000         1.000000      1.000000   \n",
       "Dtree_tfub                       1.000000         1.000000      1.000000   \n",
       "SVC_cuni                         1.000000         1.000000      1.000000   \n",
       "SVC_cbi                          0.885246         0.708947      0.727778   \n",
       "SVC_cub                          1.000000         1.000000      1.000000   \n",
       "SVC_tfuni                        1.000000         1.000000      1.000000   \n",
       "SVC_tfbi                         1.000000         1.000000      1.000000   \n",
       "SVC_tfub                         1.000000         1.000000      1.000000   \n",
       "Rforest_cuni                     1.000000         1.000000      1.000000   \n",
       "Rforest_cbi                      0.721311         0.500000      0.527206   \n",
       "Rforest_cub                      0.967213         0.778947      0.800000   \n",
       "Rforest_tfuni                    0.983607         0.988889      0.900000   \n",
       "Rforest_tfbi                     1.000000         1.000000      1.000000   \n",
       "Rforest_tfub                     1.000000         1.000000      1.000000   \n",
       "XGB_cuni                         1.000000         1.000000      1.000000   \n",
       "XGB_cbi                          0.901639         0.747826      0.732026   \n",
       "XGB_cub                          1.000000         1.000000      1.000000   \n",
       "XGB_tfuni                        1.000000         1.000000      1.000000   \n",
       "XGB_tfbi                         1.000000         1.000000      1.000000   \n",
       "XGB_tfub                         1.000000         1.000000      1.000000   \n",
       "Naive_cuni                       1.000000         1.000000      1.000000   \n",
       "Naive_cbi                        1.000000         1.000000      1.000000   \n",
       "Naive_cub                        1.000000         1.000000      1.000000   \n",
       "Naive_tfuni                      1.000000         1.000000      1.000000   \n",
       "Naive_tfbi                       1.000000         1.000000      1.000000   \n",
       "Naive_tfub                       1.000000         1.000000      1.000000   \n",
       "Stacking_tfuni                   0.967213         0.778947      0.800000   \n",
       "Stacking_tfub                    0.967213         0.778947      0.800000   \n",
       "Voting_tfuni                     1.000000         1.000000      1.000000   \n",
       "Voting_tfub                      1.000000         1.000000      1.000000   \n",
       "\n",
       "                           train_f1score  test_accuracy  test_precision  \\\n",
       "Logistic_regression_cuni        1.000000         0.9375        0.937500   \n",
       "Logistic_regression_cbi         1.000000         0.6250        0.833333   \n",
       "Logistic_regression_cub         1.000000         0.9375        0.937500   \n",
       "Logistic_regression_tfuni       0.788889         0.9375        0.937500   \n",
       "Logistic_regression_tfbi        0.788889         0.7500        0.857143   \n",
       "Logistic_regression_tfub        0.788889         0.8125        0.875000   \n",
       "Dtree_cuni                      1.000000         0.8750        0.900000   \n",
       "Dtree_cbi                       1.000000         0.6875        0.773810   \n",
       "Dtree_cub                       1.000000         0.9375        0.937500   \n",
       "Dtree_tfuni                     1.000000         0.9375        0.800000   \n",
       "Dtree_tfbi                      1.000000         0.8750        0.900000   \n",
       "Dtree_tfub                      1.000000         0.9375        0.800000   \n",
       "SVC_cuni                        1.000000         0.9375        0.937500   \n",
       "SVC_cbi                         0.712522         0.8125        0.858333   \n",
       "SVC_cub                         1.000000         0.9375        0.937500   \n",
       "SVC_tfuni                       1.000000         0.9375        0.937500   \n",
       "SVC_tfbi                        1.000000         0.8125        0.875000   \n",
       "SVC_tfub                        1.000000         0.9375        0.937500   \n",
       "Rforest_cuni                    1.000000         1.0000        1.000000   \n",
       "Rforest_cbi                     0.493289         0.5625        0.575000   \n",
       "Rforest_cub                     0.788889         1.0000        1.000000   \n",
       "Rforest_tfuni                   0.927619         1.0000        1.000000   \n",
       "Rforest_tfbi                    1.000000         0.8125        0.875000   \n",
       "Rforest_tfub                    1.000000         1.0000        1.000000   \n",
       "XGB_cuni                        1.000000         1.0000        1.000000   \n",
       "XGB_cbi                         0.732500         0.8125        0.875000   \n",
       "XGB_cub                         1.000000         0.9375        0.937500   \n",
       "XGB_tfuni                       1.000000         1.0000        1.000000   \n",
       "XGB_tfbi                        1.000000         0.9375        0.937500   \n",
       "XGB_tfub                        1.000000         1.0000        1.000000   \n",
       "Naive_cuni                      1.000000         0.9375        0.937500   \n",
       "Naive_cbi                       1.000000         0.6250        0.733333   \n",
       "Naive_cub                       1.000000         1.0000        1.000000   \n",
       "Naive_tfuni                     1.000000         1.0000        1.000000   \n",
       "Naive_tfbi                      1.000000         1.0000        1.000000   \n",
       "Naive_tfub                      1.000000         1.0000        1.000000   \n",
       "Stacking_tfuni                  0.788889         1.0000        1.000000   \n",
       "Stacking_tfub                   0.788889         1.0000        1.000000   \n",
       "Voting_tfuni                    1.000000         1.0000        1.000000   \n",
       "Voting_tfub                     1.000000         1.0000        1.000000   \n",
       "\n",
       "                           test_recall  test_f1score  \n",
       "Logistic_regression_cuni      0.950000      0.936508  \n",
       "Logistic_regression_cbi       0.700000      0.645833  \n",
       "Logistic_regression_cub       0.950000      0.936508  \n",
       "Logistic_regression_tfuni     0.950000      0.936508  \n",
       "Logistic_regression_tfbi      0.800000      0.733333  \n",
       "Logistic_regression_tfub      0.850000      0.809524  \n",
       "Dtree_cuni                    0.900000      0.881944  \n",
       "Dtree_cbi                     0.750000      0.712500  \n",
       "Dtree_cub                     0.950000      0.936508  \n",
       "Dtree_tfuni                   0.733333      0.760000  \n",
       "Dtree_tfbi                    0.866667      0.859722  \n",
       "Dtree_tfub                    0.733333      0.760000  \n",
       "SVC_cuni                      0.950000      0.936508  \n",
       "SVC_cbi                       0.850000      0.807630  \n",
       "SVC_cub                       0.950000      0.936508  \n",
       "SVC_tfuni                     0.950000      0.936508  \n",
       "SVC_tfbi                      0.850000      0.809524  \n",
       "SVC_tfub                      0.950000      0.936508  \n",
       "Rforest_cuni                  1.000000      1.000000  \n",
       "Rforest_cbi                   0.650000      0.552885  \n",
       "Rforest_cub                   1.000000      1.000000  \n",
       "Rforest_tfuni                 1.000000      1.000000  \n",
       "Rforest_tfbi                  0.816667      0.804167  \n",
       "Rforest_tfub                  1.000000      1.000000  \n",
       "XGB_cuni                      1.000000      1.000000  \n",
       "XGB_cbi                       0.850000      0.826389  \n",
       "XGB_cub                       0.950000      0.936508  \n",
       "XGB_tfuni                     1.000000      1.000000  \n",
       "XGB_tfbi                      0.950000      0.936508  \n",
       "XGB_tfub                      1.000000      1.000000  \n",
       "Naive_cuni                    0.950000      0.936508  \n",
       "Naive_cbi                     0.533333      0.597619  \n",
       "Naive_cub                     1.000000      1.000000  \n",
       "Naive_tfuni                   1.000000      1.000000  \n",
       "Naive_tfbi                    1.000000      1.000000  \n",
       "Naive_tfub                    1.000000      1.000000  \n",
       "Stacking_tfuni                1.000000      1.000000  \n",
       "Stacking_tfub                 1.000000      1.000000  \n",
       "Voting_tfuni                  1.000000      1.000000  \n",
       "Voting_tfub                   1.000000      1.000000  "
      ]
     },
     "execution_count": 98,
     "metadata": {},
     "output_type": "execute_result"
    }
   ],
   "source": [
    "result.transpose()"
   ]
  },
  {
   "cell_type": "code",
   "execution_count": 124,
   "id": "081439a6",
   "metadata": {},
   "outputs": [
    {
     "data": {
      "text/plain": [
       "(0.0, 1.3)"
      ]
     },
     "execution_count": 124,
     "metadata": {},
     "output_type": "execute_result"
    },
    {
     "data": {
      "image/png": "[encoded data removed]",
      "text/plain": [
       "<Figure size 1200x500 with 1 Axes>"
      ]
     },
     "metadata": {},
     "output_type": "display_data"
    }
   ],
   "source": [
    "plt.figure(figsize=(12,5))\n",
    "sns.barplot(data=result.transpose().sort_values(by='test_accuracy'),x=result.transpose().sort_values(by='test_accuracy').index,y='test_accuracy',palette='rocket')\n",
    "sns.barplot(data=result.transpose().sort_values(by='test_accuracy'),x=result.transpose().sort_values(by='test_accuracy').index,y='train_accuracy',alpha=0.4)\n",
    "sns.lineplot(data=result.transpose().sort_values(by='test_accuracy'),x=result.transpose().sort_values(by='test_accuracy').index,y='test_accuracy',linestyle='dotted',marker='*',markersize=5,markerfacecolor='blue',markeredgecolor='midnightblue',color='red')\n",
    "sns.lineplot(data=result.transpose().sort_values(by='test_accuracy'),x=result.transpose().sort_values(by='test_accuracy').index,y='train_accuracy',linestyle='dotted',marker='o',markersize=5,markerfacecolor='blue',markeredgecolor='midnightblue',color='red')\n",
    "plt.tick_params(axis='x',labelrotation=90)\n",
    "plt.title('Accuracy')\n",
    "plt.ylim(top=1.3)"
   ]
  },
  {
   "cell_type": "code",
   "execution_count": 100,
   "id": "09d536f8",
   "metadata": {},
   "outputs": [
    {
     "data": {
      "text/html": [
       "<div>\n",
       "<style scoped>\n",
       "    .dataframe tbody tr th:only-of-type {\n",
       "        vertical-align: middle;\n",
       "    }\n",
       "\n",
       "    .dataframe tbody tr th {\n",
       "        vertical-align: top;\n",
       "    }\n",
       "\n",
       "    .dataframe thead th {\n",
       "        text-align: right;\n",
       "    }\n",
       "</style>\n",
       "<table border=\"1\" class=\"dataframe\">\n",
       "  <thead>\n",
       "    <tr style=\"text-align: right;\">\n",
       "      <th></th>\n",
       "      <th>0</th>\n",
       "      <th>1</th>\n",
       "      <th>2</th>\n",
       "      <th>3</th>\n",
       "      <th>4</th>\n",
       "      <th>5</th>\n",
       "      <th>6</th>\n",
       "      <th>7</th>\n",
       "      <th>8</th>\n",
       "      <th>9</th>\n",
       "      <th>...</th>\n",
       "      <th>24388</th>\n",
       "      <th>24389</th>\n",
       "      <th>24390</th>\n",
       "      <th>24391</th>\n",
       "      <th>24392</th>\n",
       "      <th>24393</th>\n",
       "      <th>24394</th>\n",
       "      <th>24395</th>\n",
       "      <th>24396</th>\n",
       "      <th>24397</th>\n",
       "    </tr>\n",
       "  </thead>\n",
       "  <tbody>\n",
       "    <tr>\n",
       "      <th>0</th>\n",
       "      <td>0.0</td>\n",
       "      <td>0.0</td>\n",
       "      <td>0.0</td>\n",
       "      <td>0.0</td>\n",
       "      <td>0.0</td>\n",
       "      <td>0.0</td>\n",
       "      <td>0.000000</td>\n",
       "      <td>0.000000</td>\n",
       "      <td>0.000000</td>\n",
       "      <td>0.0</td>\n",
       "      <td>...</td>\n",
       "      <td>0.0</td>\n",
       "      <td>0.0</td>\n",
       "      <td>0.0</td>\n",
       "      <td>0.0</td>\n",
       "      <td>0.0</td>\n",
       "      <td>0.0</td>\n",
       "      <td>0.0</td>\n",
       "      <td>0.0</td>\n",
       "      <td>0.0</td>\n",
       "      <td>0.0</td>\n",
       "    </tr>\n",
       "    <tr>\n",
       "      <th>1</th>\n",
       "      <td>0.0</td>\n",
       "      <td>0.0</td>\n",
       "      <td>0.0</td>\n",
       "      <td>0.0</td>\n",
       "      <td>0.0</td>\n",
       "      <td>0.0</td>\n",
       "      <td>0.000000</td>\n",
       "      <td>0.000000</td>\n",
       "      <td>0.000000</td>\n",
       "      <td>0.0</td>\n",
       "      <td>...</td>\n",
       "      <td>0.0</td>\n",
       "      <td>0.0</td>\n",
       "      <td>0.0</td>\n",
       "      <td>0.0</td>\n",
       "      <td>0.0</td>\n",
       "      <td>0.0</td>\n",
       "      <td>0.0</td>\n",
       "      <td>0.0</td>\n",
       "      <td>0.0</td>\n",
       "      <td>0.0</td>\n",
       "    </tr>\n",
       "    <tr>\n",
       "      <th>2</th>\n",
       "      <td>0.0</td>\n",
       "      <td>0.0</td>\n",
       "      <td>0.0</td>\n",
       "      <td>0.0</td>\n",
       "      <td>0.0</td>\n",
       "      <td>0.0</td>\n",
       "      <td>0.000000</td>\n",
       "      <td>0.000000</td>\n",
       "      <td>0.022342</td>\n",
       "      <td>0.0</td>\n",
       "      <td>...</td>\n",
       "      <td>0.0</td>\n",
       "      <td>0.0</td>\n",
       "      <td>0.0</td>\n",
       "      <td>0.0</td>\n",
       "      <td>0.0</td>\n",
       "      <td>0.0</td>\n",
       "      <td>0.0</td>\n",
       "      <td>0.0</td>\n",
       "      <td>0.0</td>\n",
       "      <td>0.0</td>\n",
       "    </tr>\n",
       "    <tr>\n",
       "      <th>3</th>\n",
       "      <td>0.0</td>\n",
       "      <td>0.0</td>\n",
       "      <td>0.0</td>\n",
       "      <td>0.0</td>\n",
       "      <td>0.0</td>\n",
       "      <td>0.0</td>\n",
       "      <td>0.000000</td>\n",
       "      <td>0.000000</td>\n",
       "      <td>0.070191</td>\n",
       "      <td>0.0</td>\n",
       "      <td>...</td>\n",
       "      <td>0.0</td>\n",
       "      <td>0.0</td>\n",
       "      <td>0.0</td>\n",
       "      <td>0.0</td>\n",
       "      <td>0.0</td>\n",
       "      <td>0.0</td>\n",
       "      <td>0.0</td>\n",
       "      <td>0.0</td>\n",
       "      <td>0.0</td>\n",
       "      <td>0.0</td>\n",
       "    </tr>\n",
       "    <tr>\n",
       "      <th>4</th>\n",
       "      <td>0.0</td>\n",
       "      <td>0.0</td>\n",
       "      <td>0.0</td>\n",
       "      <td>0.0</td>\n",
       "      <td>0.0</td>\n",
       "      <td>0.0</td>\n",
       "      <td>0.000000</td>\n",
       "      <td>0.000000</td>\n",
       "      <td>0.000000</td>\n",
       "      <td>0.0</td>\n",
       "      <td>...</td>\n",
       "      <td>0.0</td>\n",
       "      <td>0.0</td>\n",
       "      <td>0.0</td>\n",
       "      <td>0.0</td>\n",
       "      <td>0.0</td>\n",
       "      <td>0.0</td>\n",
       "      <td>0.0</td>\n",
       "      <td>0.0</td>\n",
       "      <td>0.0</td>\n",
       "      <td>0.0</td>\n",
       "    </tr>\n",
       "    <tr>\n",
       "      <th>...</th>\n",
       "      <td>...</td>\n",
       "      <td>...</td>\n",
       "      <td>...</td>\n",
       "      <td>...</td>\n",
       "      <td>...</td>\n",
       "      <td>...</td>\n",
       "      <td>...</td>\n",
       "      <td>...</td>\n",
       "      <td>...</td>\n",
       "      <td>...</td>\n",
       "      <td>...</td>\n",
       "      <td>...</td>\n",
       "      <td>...</td>\n",
       "      <td>...</td>\n",
       "      <td>...</td>\n",
       "      <td>...</td>\n",
       "      <td>...</td>\n",
       "      <td>...</td>\n",
       "      <td>...</td>\n",
       "      <td>...</td>\n",
       "      <td>...</td>\n",
       "    </tr>\n",
       "    <tr>\n",
       "      <th>72</th>\n",
       "      <td>0.0</td>\n",
       "      <td>0.0</td>\n",
       "      <td>0.0</td>\n",
       "      <td>0.0</td>\n",
       "      <td>0.0</td>\n",
       "      <td>0.0</td>\n",
       "      <td>0.000000</td>\n",
       "      <td>0.000000</td>\n",
       "      <td>0.000000</td>\n",
       "      <td>0.0</td>\n",
       "      <td>...</td>\n",
       "      <td>0.0</td>\n",
       "      <td>0.0</td>\n",
       "      <td>0.0</td>\n",
       "      <td>0.0</td>\n",
       "      <td>0.0</td>\n",
       "      <td>0.0</td>\n",
       "      <td>0.0</td>\n",
       "      <td>0.0</td>\n",
       "      <td>0.0</td>\n",
       "      <td>0.0</td>\n",
       "    </tr>\n",
       "    <tr>\n",
       "      <th>73</th>\n",
       "      <td>0.0</td>\n",
       "      <td>0.0</td>\n",
       "      <td>0.0</td>\n",
       "      <td>0.0</td>\n",
       "      <td>0.0</td>\n",
       "      <td>0.0</td>\n",
       "      <td>0.055079</td>\n",
       "      <td>0.055079</td>\n",
       "      <td>0.000000</td>\n",
       "      <td>0.0</td>\n",
       "      <td>...</td>\n",
       "      <td>0.0</td>\n",
       "      <td>0.0</td>\n",
       "      <td>0.0</td>\n",
       "      <td>0.0</td>\n",
       "      <td>0.0</td>\n",
       "      <td>0.0</td>\n",
       "      <td>0.0</td>\n",
       "      <td>0.0</td>\n",
       "      <td>0.0</td>\n",
       "      <td>0.0</td>\n",
       "    </tr>\n",
       "    <tr>\n",
       "      <th>74</th>\n",
       "      <td>0.0</td>\n",
       "      <td>0.0</td>\n",
       "      <td>0.0</td>\n",
       "      <td>0.0</td>\n",
       "      <td>0.0</td>\n",
       "      <td>0.0</td>\n",
       "      <td>0.000000</td>\n",
       "      <td>0.000000</td>\n",
       "      <td>0.017973</td>\n",
       "      <td>0.0</td>\n",
       "      <td>...</td>\n",
       "      <td>0.0</td>\n",
       "      <td>0.0</td>\n",
       "      <td>0.0</td>\n",
       "      <td>0.0</td>\n",
       "      <td>0.0</td>\n",
       "      <td>0.0</td>\n",
       "      <td>0.0</td>\n",
       "      <td>0.0</td>\n",
       "      <td>0.0</td>\n",
       "      <td>0.0</td>\n",
       "    </tr>\n",
       "    <tr>\n",
       "      <th>75</th>\n",
       "      <td>0.0</td>\n",
       "      <td>0.0</td>\n",
       "      <td>0.0</td>\n",
       "      <td>0.0</td>\n",
       "      <td>0.0</td>\n",
       "      <td>0.0</td>\n",
       "      <td>0.000000</td>\n",
       "      <td>0.000000</td>\n",
       "      <td>0.000000</td>\n",
       "      <td>0.0</td>\n",
       "      <td>...</td>\n",
       "      <td>0.0</td>\n",
       "      <td>0.0</td>\n",
       "      <td>0.0</td>\n",
       "      <td>0.0</td>\n",
       "      <td>0.0</td>\n",
       "      <td>0.0</td>\n",
       "      <td>0.0</td>\n",
       "      <td>0.0</td>\n",
       "      <td>0.0</td>\n",
       "      <td>0.0</td>\n",
       "    </tr>\n",
       "    <tr>\n",
       "      <th>76</th>\n",
       "      <td>0.0</td>\n",
       "      <td>0.0</td>\n",
       "      <td>0.0</td>\n",
       "      <td>0.0</td>\n",
       "      <td>0.0</td>\n",
       "      <td>0.0</td>\n",
       "      <td>0.000000</td>\n",
       "      <td>0.000000</td>\n",
       "      <td>0.000000</td>\n",
       "      <td>0.0</td>\n",
       "      <td>...</td>\n",
       "      <td>0.0</td>\n",
       "      <td>0.0</td>\n",
       "      <td>0.0</td>\n",
       "      <td>0.0</td>\n",
       "      <td>0.0</td>\n",
       "      <td>0.0</td>\n",
       "      <td>0.0</td>\n",
       "      <td>0.0</td>\n",
       "      <td>0.0</td>\n",
       "      <td>0.0</td>\n",
       "    </tr>\n",
       "  </tbody>\n",
       "</table>\n",
       "<p>77 rows × 24398 columns</p>\n",
       "</div>"
      ],
      "text/plain": [
       "      0    1    2    3    4    5         6         7         8    9  ...  \\\n",
       "0   0.0  0.0  0.0  0.0  0.0  0.0  0.000000  0.000000  0.000000  0.0  ...   \n",
       "1   0.0  0.0  0.0  0.0  0.0  0.0  0.000000  0.000000  0.000000  0.0  ...   \n",
       "2   0.0  0.0  0.0  0.0  0.0  0.0  0.000000  0.000000  0.022342  0.0  ...   \n",
       "3   0.0  0.0  0.0  0.0  0.0  0.0  0.000000  0.000000  0.070191  0.0  ...   \n",
       "4   0.0  0.0  0.0  0.0  0.0  0.0  0.000000  0.000000  0.000000  0.0  ...   \n",
       "..  ...  ...  ...  ...  ...  ...       ...       ...       ...  ...  ...   \n",
       "72  0.0  0.0  0.0  0.0  0.0  0.0  0.000000  0.000000  0.000000  0.0  ...   \n",
       "73  0.0  0.0  0.0  0.0  0.0  0.0  0.055079  0.055079  0.000000  0.0  ...   \n",
       "74  0.0  0.0  0.0  0.0  0.0  0.0  0.000000  0.000000  0.017973  0.0  ...   \n",
       "75  0.0  0.0  0.0  0.0  0.0  0.0  0.000000  0.000000  0.000000  0.0  ...   \n",
       "76  0.0  0.0  0.0  0.0  0.0  0.0  0.000000  0.000000  0.000000  0.0  ...   \n",
       "\n",
       "    24388  24389  24390  24391  24392  24393  24394  24395  24396  24397  \n",
       "0     0.0    0.0    0.0    0.0    0.0    0.0    0.0    0.0    0.0    0.0  \n",
       "1     0.0    0.0    0.0    0.0    0.0    0.0    0.0    0.0    0.0    0.0  \n",
       "2     0.0    0.0    0.0    0.0    0.0    0.0    0.0    0.0    0.0    0.0  \n",
       "3     0.0    0.0    0.0    0.0    0.0    0.0    0.0    0.0    0.0    0.0  \n",
       "4     0.0    0.0    0.0    0.0    0.0    0.0    0.0    0.0    0.0    0.0  \n",
       "..    ...    ...    ...    ...    ...    ...    ...    ...    ...    ...  \n",
       "72    0.0    0.0    0.0    0.0    0.0    0.0    0.0    0.0    0.0    0.0  \n",
       "73    0.0    0.0    0.0    0.0    0.0    0.0    0.0    0.0    0.0    0.0  \n",
       "74    0.0    0.0    0.0    0.0    0.0    0.0    0.0    0.0    0.0    0.0  \n",
       "75    0.0    0.0    0.0    0.0    0.0    0.0    0.0    0.0    0.0    0.0  \n",
       "76    0.0    0.0    0.0    0.0    0.0    0.0    0.0    0.0    0.0    0.0  \n",
       "\n",
       "[77 rows x 24398 columns]"
      ]
     },
     "execution_count": 100,
     "metadata": {},
     "output_type": "execute_result"
    }
   ],
   "source": [
    "X_tfub"
   ]
  },
  {
   "cell_type": "code",
   "execution_count": 101,
   "id": "d196db3b",
   "metadata": {},
   "outputs": [
    {
     "data": {
      "text/html": [
       "<div>\n",
       "<style scoped>\n",
       "    .dataframe tbody tr th:only-of-type {\n",
       "        vertical-align: middle;\n",
       "    }\n",
       "\n",
       "    .dataframe tbody tr th {\n",
       "        vertical-align: top;\n",
       "    }\n",
       "\n",
       "    .dataframe thead th {\n",
       "        text-align: right;\n",
       "    }\n",
       "</style>\n",
       "<table border=\"1\" class=\"dataframe\">\n",
       "  <thead>\n",
       "    <tr style=\"text-align: right;\">\n",
       "      <th></th>\n",
       "      <th>category_label</th>\n",
       "    </tr>\n",
       "  </thead>\n",
       "  <tbody>\n",
       "    <tr>\n",
       "      <th>0</th>\n",
       "      <td>2</td>\n",
       "    </tr>\n",
       "    <tr>\n",
       "      <th>1</th>\n",
       "      <td>2</td>\n",
       "    </tr>\n",
       "    <tr>\n",
       "      <th>2</th>\n",
       "      <td>2</td>\n",
       "    </tr>\n",
       "    <tr>\n",
       "      <th>3</th>\n",
       "      <td>2</td>\n",
       "    </tr>\n",
       "    <tr>\n",
       "      <th>4</th>\n",
       "      <td>2</td>\n",
       "    </tr>\n",
       "    <tr>\n",
       "      <th>...</th>\n",
       "      <td>...</td>\n",
       "    </tr>\n",
       "    <tr>\n",
       "      <th>72</th>\n",
       "      <td>4</td>\n",
       "    </tr>\n",
       "    <tr>\n",
       "      <th>73</th>\n",
       "      <td>4</td>\n",
       "    </tr>\n",
       "    <tr>\n",
       "      <th>74</th>\n",
       "      <td>4</td>\n",
       "    </tr>\n",
       "    <tr>\n",
       "      <th>75</th>\n",
       "      <td>0</td>\n",
       "    </tr>\n",
       "    <tr>\n",
       "      <th>76</th>\n",
       "      <td>0</td>\n",
       "    </tr>\n",
       "  </tbody>\n",
       "</table>\n",
       "<p>77 rows × 1 columns</p>\n",
       "</div>"
      ],
      "text/plain": [
       "    category_label\n",
       "0                2\n",
       "1                2\n",
       "2                2\n",
       "3                2\n",
       "4                2\n",
       "..             ...\n",
       "72               4\n",
       "73               4\n",
       "74               4\n",
       "75               0\n",
       "76               0\n",
       "\n",
       "[77 rows x 1 columns]"
      ]
     },
     "execution_count": 101,
     "metadata": {},
     "output_type": "execute_result"
    }
   ],
   "source": [
    "target"
   ]
  },
  {
   "cell_type": "code",
   "execution_count": 102,
   "id": "09956a68",
   "metadata": {},
   "outputs": [],
   "source": [
    "final_model=VotingClassifier(estimators=base_models2,voting='hard').fit(X_tfub,target)"
   ]
  },
  {
   "cell_type": "code",
   "execution_count": 103,
   "id": "91682363",
   "metadata": {},
   "outputs": [],
   "source": [
    "import pickle"
   ]
  },
  {
   "cell_type": "code",
   "execution_count": 104,
   "id": "f588c20c",
   "metadata": {},
   "outputs": [],
   "source": [
    "pickle.dump(final_model,open('final_model','wb'))"
   ]
  },
  {
   "cell_type": "code",
   "execution_count": null,
   "id": "666441cb",
   "metadata": {},
   "outputs": [],
   "source": []
  }
 ],
 "metadata": {
  "kernelspec": {
   "display_name": "Python 3 (ipykernel)",
   "language": "python",
   "name": "python3"
  },
  "language_info": {
   "codemirror_mode": {
    "name": "ipython",
    "version": 3
   },
   "file_extension": ".py",
   "mimetype": "text/x-python",
   "name": "python",
   "nbconvert_exporter": "python",
   "pygments_lexer": "ipython3",
   "version": "3.11.4"
  }
 },
 "nbformat": 4,
 "nbformat_minor": 5
}
